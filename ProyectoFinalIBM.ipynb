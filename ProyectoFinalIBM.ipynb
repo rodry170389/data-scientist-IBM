{
 "cells": [
  {
   "cell_type": "markdown",
   "id": "18e1c76e",
   "metadata": {
    "id": "18e1c76e"
   },
   "source": [
    "<h1>Proyecto final</h1>\n",
    "<h3>IBM SkillsBuild Europa - Análisis de datos</h3>\n",
    "\n",
    "<table>\n",
    "    <tr>\n",
    "        <td><img width=200 src=\"https://upload.wikimedia.org/wikipedia/commons/thumb/5/51/IBM_logo.svg/800px-IBM_logo.svg.png\"></td>\n",
    "        <td><img width=200 src=\"https://skillup.online/_next/static/media/Logo.c31d02e9.svg\"></td>\n",
    "    </tr>\n",
    "<table>"
   ]
  },
  {
   "cell_type": "markdown",
   "id": "ccdda504",
   "metadata": {
    "id": "ccdda504"
   },
   "source": [
    "# Requisitos\n",
    "\n",
    "* Conocimientos de Python, Power BI o Tableau.\n",
    "* Comprensión de la limpieza de datos.\n",
    "* Comprensión de la visualización de datos.\n",
    "\n",
    "\n",
    "#### Nivel de ejercicio: Intermedio\n",
    "\n",
    "#### Duración: aproximadamente 3 horas"
   ]
  },
  {
   "cell_type": "markdown",
   "id": "1dd097a8",
   "metadata": {
    "id": "1dd097a8"
   },
   "source": [
    "### Análisis de datos de Airbnb:\n",
    "\n",
    "\n",
    "\n",
    "#### Objetivo:\n",
    "\n",
    "\n",
    "\n",
    "En este ejercicio, practicarás el análisis de datos sobre un conjunto de datos abiertos procedentes de Airbnb. Algunas de las tareas incluyen:\n",
    "\n",
    "- limpieza de datos,\n",
    "- transformación de datos y\n",
    "- visualización de datos.\n",
    "\n",
    "\n",
    "\n",
    "#### Resumen sobre los datos de Airbnb:\n",
    "\n",
    "\n",
    "\n",
    "Los criterios principales de la gente cuando visita lugares nuevos son contar con alojamiento y comida a precios razonables. Airbnb (Air-Bed-Breakfast) es un mercado en línea creado para satisfacer esta necesidad, pues permite a la gente alquilar sus casas durante plazos cortos. Estos servicios se ofrecen a un precio relativamente inferior al de los hoteles y en diversas ubicaciones geográficas. Además, personas de todo el mundo prefieren el servicio hogareño y económico.\n",
    "\n",
    "\n",
    "\n",
    "#### Fuente de los datos\n",
    "\n",
    "\n",
    "\n",
    "Puedes obtener el <i>dataset</i> para realizar este proyecto en el siguiente enlace: https://www.kaggle.com/datasets/arianazmoudeh/airbnbopendata\n",
    "\n",
    "\n",
    "\n",
    "Este <i>dataset</i> contiene información sobre los alojamientos, tal como el barrio, el tipo de habitación, el precio, la disponibilidad, las opiniones, los gastos de servicio, la política de cancelación y las normas de uso de la casa.\n",
    "\n",
    "\n",
    "\n",
    "¡Te deseamos lo mejor en tu análisis de los datos de Airbnb!"
   ]
  },
  {
   "cell_type": "markdown",
   "id": "87iYmshDK853",
   "metadata": {
    "id": "87iYmshDK853"
   },
   "source": [
    "## Tarea 1: Carga de datos (Python)\n",
    "\n",
    "\n",
    "\n",
    "1. Lee el fichero csv y cárgarlo en un <i>dataframe</i> de pandas.\n",
    "2. Visualiza las cinco primeras filas de tu <i>dataframe</i>.\n",
    "3. Visualize los tipos de datos de las columnas."
   ]
  },
  {
   "cell_type": "code",
   "execution_count": 1,
   "id": "aadb9c79",
   "metadata": {},
   "outputs": [
    {
     "data": {
      "text/plain": [
       "'c:\\\\Users\\\\Rodrigo\\\\Desktop\\\\Proyecto final Analisis de datos\\\\PF_codigo'"
      ]
     },
     "execution_count": 1,
     "metadata": {},
     "output_type": "execute_result"
    }
   ],
   "source": [
    "import os \n",
    "diectory = os.getcwd()\n",
    "diectory"
   ]
  },
  {
   "cell_type": "code",
   "execution_count": 9,
   "id": "d48783a3",
   "metadata": {},
   "outputs": [
    {
     "data": {
      "text/plain": [
       "['.ipynb_checkpoints',\n",
       " 'Airbnb_Open_Data.csv',\n",
       " 'archive.zip',\n",
       " 'Final_Project_Spanish - copia.ipynb',\n",
       " 'Final_Project_Spanish.ipynb',\n",
       " 'solution_spanish_file.pdf']"
      ]
     },
     "execution_count": 9,
     "metadata": {},
     "output_type": "execute_result"
    }
   ],
   "source": [
    "files_in_directory = os.listdir(diectory)\n",
    "files_in_directory"
   ]
  },
  {
   "cell_type": "code",
   "execution_count": 13,
   "id": "-ikKZ3bYK856",
   "metadata": {
    "id": "-ikKZ3bYK856"
   },
   "outputs": [
    {
     "name": "stderr",
     "output_type": "stream",
     "text": [
      "C:\\Users\\es50885877x\\AppData\\Local\\Temp\\ipykernel_25652\\3207123219.py:3: DtypeWarning: Columns (25) have mixed types. Specify dtype option on import or set low_memory=False.\n",
      "  df = pd.read_csv('Airbnb_Open_Data.csv')\n"
     ]
    }
   ],
   "source": [
    "## Lee el fichero csv.\n",
    "import pandas as pd\n",
    "df = pd.read_csv('Airbnb_Open_Data.csv') "
   ]
  },
  {
   "cell_type": "code",
   "execution_count": 14,
   "id": "RWEtAhDbK858",
   "metadata": {
    "id": "RWEtAhDbK858"
   },
   "outputs": [
    {
     "data": {
      "text/html": [
       "<div>\n",
       "<style scoped>\n",
       "    .dataframe tbody tr th:only-of-type {\n",
       "        vertical-align: middle;\n",
       "    }\n",
       "\n",
       "    .dataframe tbody tr th {\n",
       "        vertical-align: top;\n",
       "    }\n",
       "\n",
       "    .dataframe thead th {\n",
       "        text-align: right;\n",
       "    }\n",
       "</style>\n",
       "<table border=\"1\" class=\"dataframe\">\n",
       "  <thead>\n",
       "    <tr style=\"text-align: right;\">\n",
       "      <th></th>\n",
       "      <th>id</th>\n",
       "      <th>NAME</th>\n",
       "      <th>host id</th>\n",
       "      <th>host_identity_verified</th>\n",
       "      <th>host name</th>\n",
       "      <th>neighbourhood group</th>\n",
       "      <th>neighbourhood</th>\n",
       "      <th>lat</th>\n",
       "      <th>long</th>\n",
       "      <th>country</th>\n",
       "      <th>...</th>\n",
       "      <th>service fee</th>\n",
       "      <th>minimum nights</th>\n",
       "      <th>number of reviews</th>\n",
       "      <th>last review</th>\n",
       "      <th>reviews per month</th>\n",
       "      <th>review rate number</th>\n",
       "      <th>calculated host listings count</th>\n",
       "      <th>availability 365</th>\n",
       "      <th>house_rules</th>\n",
       "      <th>license</th>\n",
       "    </tr>\n",
       "  </thead>\n",
       "  <tbody>\n",
       "    <tr>\n",
       "      <th>0</th>\n",
       "      <td>1001254</td>\n",
       "      <td>Clean &amp; quiet apt home by the park</td>\n",
       "      <td>80014485718</td>\n",
       "      <td>unconfirmed</td>\n",
       "      <td>Madaline</td>\n",
       "      <td>Brooklyn</td>\n",
       "      <td>Kensington</td>\n",
       "      <td>40.64749</td>\n",
       "      <td>-73.97237</td>\n",
       "      <td>United States</td>\n",
       "      <td>...</td>\n",
       "      <td>$193</td>\n",
       "      <td>10.0</td>\n",
       "      <td>9.0</td>\n",
       "      <td>10/19/2021</td>\n",
       "      <td>0.21</td>\n",
       "      <td>4.0</td>\n",
       "      <td>6.0</td>\n",
       "      <td>286.0</td>\n",
       "      <td>Clean up and treat the home the way you'd like...</td>\n",
       "      <td>NaN</td>\n",
       "    </tr>\n",
       "    <tr>\n",
       "      <th>1</th>\n",
       "      <td>1002102</td>\n",
       "      <td>Skylit Midtown Castle</td>\n",
       "      <td>52335172823</td>\n",
       "      <td>verified</td>\n",
       "      <td>Jenna</td>\n",
       "      <td>Manhattan</td>\n",
       "      <td>Midtown</td>\n",
       "      <td>40.75362</td>\n",
       "      <td>-73.98377</td>\n",
       "      <td>United States</td>\n",
       "      <td>...</td>\n",
       "      <td>$28</td>\n",
       "      <td>30.0</td>\n",
       "      <td>45.0</td>\n",
       "      <td>5/21/2022</td>\n",
       "      <td>0.38</td>\n",
       "      <td>4.0</td>\n",
       "      <td>2.0</td>\n",
       "      <td>228.0</td>\n",
       "      <td>Pet friendly but please confirm with me if the...</td>\n",
       "      <td>NaN</td>\n",
       "    </tr>\n",
       "    <tr>\n",
       "      <th>2</th>\n",
       "      <td>1002403</td>\n",
       "      <td>THE VILLAGE OF HARLEM....NEW YORK !</td>\n",
       "      <td>78829239556</td>\n",
       "      <td>NaN</td>\n",
       "      <td>Elise</td>\n",
       "      <td>Manhattan</td>\n",
       "      <td>Harlem</td>\n",
       "      <td>40.80902</td>\n",
       "      <td>-73.94190</td>\n",
       "      <td>United States</td>\n",
       "      <td>...</td>\n",
       "      <td>$124</td>\n",
       "      <td>3.0</td>\n",
       "      <td>0.0</td>\n",
       "      <td>NaN</td>\n",
       "      <td>NaN</td>\n",
       "      <td>5.0</td>\n",
       "      <td>1.0</td>\n",
       "      <td>352.0</td>\n",
       "      <td>I encourage you to use my kitchen, cooking and...</td>\n",
       "      <td>NaN</td>\n",
       "    </tr>\n",
       "    <tr>\n",
       "      <th>3</th>\n",
       "      <td>1002755</td>\n",
       "      <td>NaN</td>\n",
       "      <td>85098326012</td>\n",
       "      <td>unconfirmed</td>\n",
       "      <td>Garry</td>\n",
       "      <td>Brooklyn</td>\n",
       "      <td>Clinton Hill</td>\n",
       "      <td>40.68514</td>\n",
       "      <td>-73.95976</td>\n",
       "      <td>United States</td>\n",
       "      <td>...</td>\n",
       "      <td>$74</td>\n",
       "      <td>30.0</td>\n",
       "      <td>270.0</td>\n",
       "      <td>7/5/2019</td>\n",
       "      <td>4.64</td>\n",
       "      <td>4.0</td>\n",
       "      <td>1.0</td>\n",
       "      <td>322.0</td>\n",
       "      <td>NaN</td>\n",
       "      <td>NaN</td>\n",
       "    </tr>\n",
       "    <tr>\n",
       "      <th>4</th>\n",
       "      <td>1003689</td>\n",
       "      <td>Entire Apt: Spacious Studio/Loft by central park</td>\n",
       "      <td>92037596077</td>\n",
       "      <td>verified</td>\n",
       "      <td>Lyndon</td>\n",
       "      <td>Manhattan</td>\n",
       "      <td>East Harlem</td>\n",
       "      <td>40.79851</td>\n",
       "      <td>-73.94399</td>\n",
       "      <td>United States</td>\n",
       "      <td>...</td>\n",
       "      <td>$41</td>\n",
       "      <td>10.0</td>\n",
       "      <td>9.0</td>\n",
       "      <td>11/19/2018</td>\n",
       "      <td>0.10</td>\n",
       "      <td>3.0</td>\n",
       "      <td>1.0</td>\n",
       "      <td>289.0</td>\n",
       "      <td>Please no smoking in the house, porch or on th...</td>\n",
       "      <td>NaN</td>\n",
       "    </tr>\n",
       "  </tbody>\n",
       "</table>\n",
       "<p>5 rows × 26 columns</p>\n",
       "</div>"
      ],
      "text/plain": [
       "        id                                              NAME      host id  \\\n",
       "0  1001254                Clean & quiet apt home by the park  80014485718   \n",
       "1  1002102                             Skylit Midtown Castle  52335172823   \n",
       "2  1002403               THE VILLAGE OF HARLEM....NEW YORK !  78829239556   \n",
       "3  1002755                                               NaN  85098326012   \n",
       "4  1003689  Entire Apt: Spacious Studio/Loft by central park  92037596077   \n",
       "\n",
       "  host_identity_verified host name neighbourhood group neighbourhood  \\\n",
       "0            unconfirmed  Madaline            Brooklyn    Kensington   \n",
       "1               verified     Jenna           Manhattan       Midtown   \n",
       "2                    NaN     Elise           Manhattan        Harlem   \n",
       "3            unconfirmed     Garry            Brooklyn  Clinton Hill   \n",
       "4               verified    Lyndon           Manhattan   East Harlem   \n",
       "\n",
       "        lat      long        country  ... service fee minimum nights  \\\n",
       "0  40.64749 -73.97237  United States  ...       $193            10.0   \n",
       "1  40.75362 -73.98377  United States  ...        $28            30.0   \n",
       "2  40.80902 -73.94190  United States  ...       $124             3.0   \n",
       "3  40.68514 -73.95976  United States  ...        $74            30.0   \n",
       "4  40.79851 -73.94399  United States  ...        $41            10.0   \n",
       "\n",
       "  number of reviews last review  reviews per month review rate number  \\\n",
       "0               9.0  10/19/2021               0.21                4.0   \n",
       "1              45.0   5/21/2022               0.38                4.0   \n",
       "2               0.0         NaN                NaN                5.0   \n",
       "3             270.0    7/5/2019               4.64                4.0   \n",
       "4               9.0  11/19/2018               0.10                3.0   \n",
       "\n",
       "  calculated host listings count  availability 365  \\\n",
       "0                            6.0             286.0   \n",
       "1                            2.0             228.0   \n",
       "2                            1.0             352.0   \n",
       "3                            1.0             322.0   \n",
       "4                            1.0             289.0   \n",
       "\n",
       "                                         house_rules license  \n",
       "0  Clean up and treat the home the way you'd like...     NaN  \n",
       "1  Pet friendly but please confirm with me if the...     NaN  \n",
       "2  I encourage you to use my kitchen, cooking and...     NaN  \n",
       "3                                                NaN     NaN  \n",
       "4  Please no smoking in the house, porch or on th...     NaN  \n",
       "\n",
       "[5 rows x 26 columns]"
      ]
     },
     "execution_count": 14,
     "metadata": {},
     "output_type": "execute_result"
    }
   ],
   "source": [
    "## Muestra las primeras 5 filas.\n",
    "df.head()"
   ]
  },
  {
   "cell_type": "code",
   "execution_count": 15,
   "id": "WuceSXM-K859",
   "metadata": {
    "id": "WuceSXM-K859"
   },
   "outputs": [
    {
     "data": {
      "text/plain": [
       "id                                  int64\n",
       "NAME                               object\n",
       "host id                             int64\n",
       "host_identity_verified             object\n",
       "host name                          object\n",
       "neighbourhood group                object\n",
       "neighbourhood                      object\n",
       "lat                               float64\n",
       "long                              float64\n",
       "country                            object\n",
       "country code                       object\n",
       "instant_bookable                   object\n",
       "cancellation_policy                object\n",
       "room type                          object\n",
       "Construction year                 float64\n",
       "price                              object\n",
       "service fee                        object\n",
       "minimum nights                    float64\n",
       "number of reviews                 float64\n",
       "last review                        object\n",
       "reviews per month                 float64\n",
       "review rate number                float64\n",
       "calculated host listings count    float64\n",
       "availability 365                  float64\n",
       "house_rules                        object\n",
       "license                            object\n",
       "dtype: object"
      ]
     },
     "execution_count": 15,
     "metadata": {},
     "output_type": "execute_result"
    }
   ],
   "source": [
    "## Muestra los tipos de datos.\n",
    "df.dtypes"
   ]
  },
  {
   "cell_type": "code",
   "execution_count": 16,
   "id": "5f95ce56",
   "metadata": {},
   "outputs": [
    {
     "name": "stdout",
     "output_type": "stream",
     "text": [
      "<class 'pandas.core.frame.DataFrame'>\n",
      "RangeIndex: 102599 entries, 0 to 102598\n",
      "Data columns (total 26 columns):\n",
      " #   Column                          Non-Null Count   Dtype  \n",
      "---  ------                          --------------   -----  \n",
      " 0   id                              102599 non-null  int64  \n",
      " 1   NAME                            102349 non-null  object \n",
      " 2   host id                         102599 non-null  int64  \n",
      " 3   host_identity_verified          102310 non-null  object \n",
      " 4   host name                       102193 non-null  object \n",
      " 5   neighbourhood group             102570 non-null  object \n",
      " 6   neighbourhood                   102583 non-null  object \n",
      " 7   lat                             102591 non-null  float64\n",
      " 8   long                            102591 non-null  float64\n",
      " 9   country                         102067 non-null  object \n",
      " 10  country code                    102468 non-null  object \n",
      " 11  instant_bookable                102494 non-null  object \n",
      " 12  cancellation_policy             102523 non-null  object \n",
      " 13  room type                       102599 non-null  object \n",
      " 14  Construction year               102385 non-null  float64\n",
      " 15  price                           102352 non-null  object \n",
      " 16  service fee                     102326 non-null  object \n",
      " 17  minimum nights                  102190 non-null  float64\n",
      " 18  number of reviews               102416 non-null  float64\n",
      " 19  last review                     86706 non-null   object \n",
      " 20  reviews per month               86720 non-null   float64\n",
      " 21  review rate number              102273 non-null  float64\n",
      " 22  calculated host listings count  102280 non-null  float64\n",
      " 23  availability 365                102151 non-null  float64\n",
      " 24  house_rules                     50468 non-null   object \n",
      " 25  license                         2 non-null       object \n",
      "dtypes: float64(9), int64(2), object(15)\n",
      "memory usage: 20.4+ MB\n"
     ]
    }
   ],
   "source": [
    "df.info()"
   ]
  },
  {
   "cell_type": "markdown",
   "id": "cAkB_QvkK859",
   "metadata": {
    "id": "cAkB_QvkK859"
   },
   "source": [
    "# Tarea 2a: Limpieza de datos (cualquier herramienta)\n",
    "\n",
    "\n",
    "1. Elimina las columnas no deseadas del <i>dataframe</i>, entre ellas se incluyen `host id`, `id`, `country` y `country code`.\n",
    "2. Indica la razón por la cual se han eliminado estas columnas para tu análisis de datos.\n",
    "\n",
    "\n",
    "Si utilizas Python para este ejercicio, incluye el código que hayas utilizado en las celdas siguientes. Si utilizas cualquier otra herramienta, incluye capturas de pantalla tomadas antes y después de eliminar las columnas."
   ]
  },
  {
   "cell_type": "code",
   "execution_count": 18,
   "id": "460e8256",
   "metadata": {},
   "outputs": [
    {
     "data": {
      "text/plain": [
       "Index(['id', 'NAME', 'host id', 'host_identity_verified', 'host name',\n",
       "       'neighbourhood group', 'neighbourhood', 'lat', 'long', 'country',\n",
       "       'country code', 'instant_bookable', 'cancellation_policy', 'room type',\n",
       "       'Construction year', 'price', 'service fee', 'minimum nights',\n",
       "       'number of reviews', 'last review', 'reviews per month',\n",
       "       'review rate number', 'calculated host listings count',\n",
       "       'availability 365', 'house_rules', 'license'],\n",
       "      dtype='object')"
      ]
     },
     "execution_count": 18,
     "metadata": {},
     "output_type": "execute_result"
    }
   ],
   "source": [
    "df.columns"
   ]
  },
  {
   "cell_type": "code",
   "execution_count": 19,
   "id": "55f0ec98",
   "metadata": {},
   "outputs": [],
   "source": [
    "# Renombra algunas columnas para que tengan el nombre sin separación de espacios.\n",
    "df.rename(columns={'host id': 'host_id', 'country code': 'country_code'}, inplace=True)\n"
   ]
  },
  {
   "cell_type": "code",
   "execution_count": 20,
   "id": "c9d1c406",
   "metadata": {},
   "outputs": [
    {
     "data": {
      "text/plain": [
       "Index(['id', 'NAME', 'host_id', 'host_identity_verified', 'host name',\n",
       "       'neighbourhood group', 'neighbourhood', 'lat', 'long', 'country',\n",
       "       'country_code', 'instant_bookable', 'cancellation_policy', 'room type',\n",
       "       'Construction year', 'price', 'service fee', 'minimum nights',\n",
       "       'number of reviews', 'last review', 'reviews per month',\n",
       "       'review rate number', 'calculated host listings count',\n",
       "       'availability 365', 'house_rules', 'license'],\n",
       "      dtype='object')"
      ]
     },
     "execution_count": 20,
     "metadata": {},
     "output_type": "execute_result"
    }
   ],
   "source": [
    "df.columns"
   ]
  },
  {
   "cell_type": "code",
   "execution_count": 34,
   "id": "DoduWcK9K85-",
   "metadata": {
    "id": "DoduWcK9K85-"
   },
   "outputs": [],
   "source": [
    "# Elimina algunas columnas que no son necesarias para el análisis.\n",
    "df.drop(columns=[\"id\", \"host_id\", \"country_code\", \"country\"], axis=1, inplace=True)\n"
   ]
  },
  {
   "cell_type": "code",
   "execution_count": 22,
   "id": "9640efe9",
   "metadata": {},
   "outputs": [
    {
     "data": {
      "text/html": [
       "<div>\n",
       "<style scoped>\n",
       "    .dataframe tbody tr th:only-of-type {\n",
       "        vertical-align: middle;\n",
       "    }\n",
       "\n",
       "    .dataframe tbody tr th {\n",
       "        vertical-align: top;\n",
       "    }\n",
       "\n",
       "    .dataframe thead th {\n",
       "        text-align: right;\n",
       "    }\n",
       "</style>\n",
       "<table border=\"1\" class=\"dataframe\">\n",
       "  <thead>\n",
       "    <tr style=\"text-align: right;\">\n",
       "      <th></th>\n",
       "      <th>NAME</th>\n",
       "      <th>host_identity_verified</th>\n",
       "      <th>host name</th>\n",
       "      <th>neighbourhood group</th>\n",
       "      <th>neighbourhood</th>\n",
       "      <th>lat</th>\n",
       "      <th>long</th>\n",
       "      <th>instant_bookable</th>\n",
       "      <th>cancellation_policy</th>\n",
       "      <th>room type</th>\n",
       "      <th>...</th>\n",
       "      <th>service fee</th>\n",
       "      <th>minimum nights</th>\n",
       "      <th>number of reviews</th>\n",
       "      <th>last review</th>\n",
       "      <th>reviews per month</th>\n",
       "      <th>review rate number</th>\n",
       "      <th>calculated host listings count</th>\n",
       "      <th>availability 365</th>\n",
       "      <th>house_rules</th>\n",
       "      <th>license</th>\n",
       "    </tr>\n",
       "  </thead>\n",
       "  <tbody>\n",
       "    <tr>\n",
       "      <th>0</th>\n",
       "      <td>Clean &amp; quiet apt home by the park</td>\n",
       "      <td>unconfirmed</td>\n",
       "      <td>Madaline</td>\n",
       "      <td>Brooklyn</td>\n",
       "      <td>Kensington</td>\n",
       "      <td>40.64749</td>\n",
       "      <td>-73.97237</td>\n",
       "      <td>False</td>\n",
       "      <td>strict</td>\n",
       "      <td>Private room</td>\n",
       "      <td>...</td>\n",
       "      <td>$193</td>\n",
       "      <td>10.0</td>\n",
       "      <td>9.0</td>\n",
       "      <td>10/19/2021</td>\n",
       "      <td>0.21</td>\n",
       "      <td>4.0</td>\n",
       "      <td>6.0</td>\n",
       "      <td>286.0</td>\n",
       "      <td>Clean up and treat the home the way you'd like...</td>\n",
       "      <td>NaN</td>\n",
       "    </tr>\n",
       "    <tr>\n",
       "      <th>1</th>\n",
       "      <td>Skylit Midtown Castle</td>\n",
       "      <td>verified</td>\n",
       "      <td>Jenna</td>\n",
       "      <td>Manhattan</td>\n",
       "      <td>Midtown</td>\n",
       "      <td>40.75362</td>\n",
       "      <td>-73.98377</td>\n",
       "      <td>False</td>\n",
       "      <td>moderate</td>\n",
       "      <td>Entire home/apt</td>\n",
       "      <td>...</td>\n",
       "      <td>$28</td>\n",
       "      <td>30.0</td>\n",
       "      <td>45.0</td>\n",
       "      <td>5/21/2022</td>\n",
       "      <td>0.38</td>\n",
       "      <td>4.0</td>\n",
       "      <td>2.0</td>\n",
       "      <td>228.0</td>\n",
       "      <td>Pet friendly but please confirm with me if the...</td>\n",
       "      <td>NaN</td>\n",
       "    </tr>\n",
       "    <tr>\n",
       "      <th>2</th>\n",
       "      <td>THE VILLAGE OF HARLEM....NEW YORK !</td>\n",
       "      <td>NaN</td>\n",
       "      <td>Elise</td>\n",
       "      <td>Manhattan</td>\n",
       "      <td>Harlem</td>\n",
       "      <td>40.80902</td>\n",
       "      <td>-73.94190</td>\n",
       "      <td>True</td>\n",
       "      <td>flexible</td>\n",
       "      <td>Private room</td>\n",
       "      <td>...</td>\n",
       "      <td>$124</td>\n",
       "      <td>3.0</td>\n",
       "      <td>0.0</td>\n",
       "      <td>NaN</td>\n",
       "      <td>NaN</td>\n",
       "      <td>5.0</td>\n",
       "      <td>1.0</td>\n",
       "      <td>352.0</td>\n",
       "      <td>I encourage you to use my kitchen, cooking and...</td>\n",
       "      <td>NaN</td>\n",
       "    </tr>\n",
       "    <tr>\n",
       "      <th>3</th>\n",
       "      <td>NaN</td>\n",
       "      <td>unconfirmed</td>\n",
       "      <td>Garry</td>\n",
       "      <td>Brooklyn</td>\n",
       "      <td>Clinton Hill</td>\n",
       "      <td>40.68514</td>\n",
       "      <td>-73.95976</td>\n",
       "      <td>True</td>\n",
       "      <td>moderate</td>\n",
       "      <td>Entire home/apt</td>\n",
       "      <td>...</td>\n",
       "      <td>$74</td>\n",
       "      <td>30.0</td>\n",
       "      <td>270.0</td>\n",
       "      <td>7/5/2019</td>\n",
       "      <td>4.64</td>\n",
       "      <td>4.0</td>\n",
       "      <td>1.0</td>\n",
       "      <td>322.0</td>\n",
       "      <td>NaN</td>\n",
       "      <td>NaN</td>\n",
       "    </tr>\n",
       "    <tr>\n",
       "      <th>4</th>\n",
       "      <td>Entire Apt: Spacious Studio/Loft by central park</td>\n",
       "      <td>verified</td>\n",
       "      <td>Lyndon</td>\n",
       "      <td>Manhattan</td>\n",
       "      <td>East Harlem</td>\n",
       "      <td>40.79851</td>\n",
       "      <td>-73.94399</td>\n",
       "      <td>False</td>\n",
       "      <td>moderate</td>\n",
       "      <td>Entire home/apt</td>\n",
       "      <td>...</td>\n",
       "      <td>$41</td>\n",
       "      <td>10.0</td>\n",
       "      <td>9.0</td>\n",
       "      <td>11/19/2018</td>\n",
       "      <td>0.10</td>\n",
       "      <td>3.0</td>\n",
       "      <td>1.0</td>\n",
       "      <td>289.0</td>\n",
       "      <td>Please no smoking in the house, porch or on th...</td>\n",
       "      <td>NaN</td>\n",
       "    </tr>\n",
       "  </tbody>\n",
       "</table>\n",
       "<p>5 rows × 22 columns</p>\n",
       "</div>"
      ],
      "text/plain": [
       "                                               NAME host_identity_verified  \\\n",
       "0                Clean & quiet apt home by the park            unconfirmed   \n",
       "1                             Skylit Midtown Castle               verified   \n",
       "2               THE VILLAGE OF HARLEM....NEW YORK !                    NaN   \n",
       "3                                               NaN            unconfirmed   \n",
       "4  Entire Apt: Spacious Studio/Loft by central park               verified   \n",
       "\n",
       "  host name neighbourhood group neighbourhood       lat      long  \\\n",
       "0  Madaline            Brooklyn    Kensington  40.64749 -73.97237   \n",
       "1     Jenna           Manhattan       Midtown  40.75362 -73.98377   \n",
       "2     Elise           Manhattan        Harlem  40.80902 -73.94190   \n",
       "3     Garry            Brooklyn  Clinton Hill  40.68514 -73.95976   \n",
       "4    Lyndon           Manhattan   East Harlem  40.79851 -73.94399   \n",
       "\n",
       "  instant_bookable cancellation_policy        room type  ...  service fee  \\\n",
       "0            False              strict     Private room  ...        $193    \n",
       "1            False            moderate  Entire home/apt  ...         $28    \n",
       "2             True            flexible     Private room  ...        $124    \n",
       "3             True            moderate  Entire home/apt  ...         $74    \n",
       "4            False            moderate  Entire home/apt  ...         $41    \n",
       "\n",
       "  minimum nights number of reviews  last review  reviews per month  \\\n",
       "0           10.0               9.0   10/19/2021               0.21   \n",
       "1           30.0              45.0    5/21/2022               0.38   \n",
       "2            3.0               0.0          NaN                NaN   \n",
       "3           30.0             270.0     7/5/2019               4.64   \n",
       "4           10.0               9.0   11/19/2018               0.10   \n",
       "\n",
       "  review rate number  calculated host listings count  availability 365  \\\n",
       "0                4.0                             6.0             286.0   \n",
       "1                4.0                             2.0             228.0   \n",
       "2                5.0                             1.0             352.0   \n",
       "3                4.0                             1.0             322.0   \n",
       "4                3.0                             1.0             289.0   \n",
       "\n",
       "                                         house_rules  license  \n",
       "0  Clean up and treat the home the way you'd like...      NaN  \n",
       "1  Pet friendly but please confirm with me if the...      NaN  \n",
       "2  I encourage you to use my kitchen, cooking and...      NaN  \n",
       "3                                                NaN      NaN  \n",
       "4  Please no smoking in the house, porch or on th...      NaN  \n",
       "\n",
       "[5 rows x 22 columns]"
      ]
     },
     "execution_count": 22,
     "metadata": {},
     "output_type": "execute_result"
    }
   ],
   "source": [
    "df.head()"
   ]
  },
  {
   "cell_type": "markdown",
   "id": "8v34rhNaK85_",
   "metadata": {
    "id": "8v34rhNaK85_"
   },
   "source": [
    "# Tarea 2b: Limpieza de datos (Python)\n",
    "\n",
    "\n",
    "- Compueba si hay valores nulos y muestra el recuento en orden ascendente. **Si faltan valores, imputa los valores como consideres.**\n",
    "- Comprueba si hay valores duplicados y elimínalos.\n",
    "- Muestra el número total de registros antes y después de eliminar los duplicados."
   ]
  },
  {
   "cell_type": "markdown",
   "id": "fdef61f8",
   "metadata": {},
   "source": [
    "### Comprueba si hay valores nulos y muestra el recuento en orden ascendente."
   ]
  },
  {
   "cell_type": "code",
   "execution_count": 27,
   "id": "590b6dfa",
   "metadata": {},
   "outputs": [
    {
     "data": {
      "text/html": [
       "<div>\n",
       "<style scoped>\n",
       "    .dataframe tbody tr th:only-of-type {\n",
       "        vertical-align: middle;\n",
       "    }\n",
       "\n",
       "    .dataframe tbody tr th {\n",
       "        vertical-align: top;\n",
       "    }\n",
       "\n",
       "    .dataframe thead th {\n",
       "        text-align: right;\n",
       "    }\n",
       "</style>\n",
       "<table border=\"1\" class=\"dataframe\">\n",
       "  <thead>\n",
       "    <tr style=\"text-align: right;\">\n",
       "      <th></th>\n",
       "      <th>NAME</th>\n",
       "      <th>host_identity_verified</th>\n",
       "      <th>host name</th>\n",
       "      <th>neighbourhood group</th>\n",
       "      <th>neighbourhood</th>\n",
       "      <th>lat</th>\n",
       "      <th>long</th>\n",
       "      <th>instant_bookable</th>\n",
       "      <th>cancellation_policy</th>\n",
       "      <th>room type</th>\n",
       "      <th>...</th>\n",
       "      <th>service fee</th>\n",
       "      <th>minimum nights</th>\n",
       "      <th>number of reviews</th>\n",
       "      <th>last review</th>\n",
       "      <th>reviews per month</th>\n",
       "      <th>review rate number</th>\n",
       "      <th>calculated host listings count</th>\n",
       "      <th>availability 365</th>\n",
       "      <th>house_rules</th>\n",
       "      <th>license</th>\n",
       "    </tr>\n",
       "  </thead>\n",
       "  <tbody>\n",
       "    <tr>\n",
       "      <th>0</th>\n",
       "      <td>False</td>\n",
       "      <td>False</td>\n",
       "      <td>False</td>\n",
       "      <td>False</td>\n",
       "      <td>False</td>\n",
       "      <td>False</td>\n",
       "      <td>False</td>\n",
       "      <td>False</td>\n",
       "      <td>False</td>\n",
       "      <td>False</td>\n",
       "      <td>...</td>\n",
       "      <td>False</td>\n",
       "      <td>False</td>\n",
       "      <td>False</td>\n",
       "      <td>False</td>\n",
       "      <td>False</td>\n",
       "      <td>False</td>\n",
       "      <td>False</td>\n",
       "      <td>False</td>\n",
       "      <td>False</td>\n",
       "      <td>True</td>\n",
       "    </tr>\n",
       "    <tr>\n",
       "      <th>1</th>\n",
       "      <td>False</td>\n",
       "      <td>False</td>\n",
       "      <td>False</td>\n",
       "      <td>False</td>\n",
       "      <td>False</td>\n",
       "      <td>False</td>\n",
       "      <td>False</td>\n",
       "      <td>False</td>\n",
       "      <td>False</td>\n",
       "      <td>False</td>\n",
       "      <td>...</td>\n",
       "      <td>False</td>\n",
       "      <td>False</td>\n",
       "      <td>False</td>\n",
       "      <td>False</td>\n",
       "      <td>False</td>\n",
       "      <td>False</td>\n",
       "      <td>False</td>\n",
       "      <td>False</td>\n",
       "      <td>False</td>\n",
       "      <td>True</td>\n",
       "    </tr>\n",
       "    <tr>\n",
       "      <th>2</th>\n",
       "      <td>False</td>\n",
       "      <td>True</td>\n",
       "      <td>False</td>\n",
       "      <td>False</td>\n",
       "      <td>False</td>\n",
       "      <td>False</td>\n",
       "      <td>False</td>\n",
       "      <td>False</td>\n",
       "      <td>False</td>\n",
       "      <td>False</td>\n",
       "      <td>...</td>\n",
       "      <td>False</td>\n",
       "      <td>False</td>\n",
       "      <td>False</td>\n",
       "      <td>True</td>\n",
       "      <td>True</td>\n",
       "      <td>False</td>\n",
       "      <td>False</td>\n",
       "      <td>False</td>\n",
       "      <td>False</td>\n",
       "      <td>True</td>\n",
       "    </tr>\n",
       "    <tr>\n",
       "      <th>3</th>\n",
       "      <td>True</td>\n",
       "      <td>False</td>\n",
       "      <td>False</td>\n",
       "      <td>False</td>\n",
       "      <td>False</td>\n",
       "      <td>False</td>\n",
       "      <td>False</td>\n",
       "      <td>False</td>\n",
       "      <td>False</td>\n",
       "      <td>False</td>\n",
       "      <td>...</td>\n",
       "      <td>False</td>\n",
       "      <td>False</td>\n",
       "      <td>False</td>\n",
       "      <td>False</td>\n",
       "      <td>False</td>\n",
       "      <td>False</td>\n",
       "      <td>False</td>\n",
       "      <td>False</td>\n",
       "      <td>True</td>\n",
       "      <td>True</td>\n",
       "    </tr>\n",
       "    <tr>\n",
       "      <th>4</th>\n",
       "      <td>False</td>\n",
       "      <td>False</td>\n",
       "      <td>False</td>\n",
       "      <td>False</td>\n",
       "      <td>False</td>\n",
       "      <td>False</td>\n",
       "      <td>False</td>\n",
       "      <td>False</td>\n",
       "      <td>False</td>\n",
       "      <td>False</td>\n",
       "      <td>...</td>\n",
       "      <td>False</td>\n",
       "      <td>False</td>\n",
       "      <td>False</td>\n",
       "      <td>False</td>\n",
       "      <td>False</td>\n",
       "      <td>False</td>\n",
       "      <td>False</td>\n",
       "      <td>False</td>\n",
       "      <td>False</td>\n",
       "      <td>True</td>\n",
       "    </tr>\n",
       "  </tbody>\n",
       "</table>\n",
       "<p>5 rows × 22 columns</p>\n",
       "</div>"
      ],
      "text/plain": [
       "    NAME  host_identity_verified  host name  neighbourhood group  \\\n",
       "0  False                   False      False                False   \n",
       "1  False                   False      False                False   \n",
       "2  False                    True      False                False   \n",
       "3   True                   False      False                False   \n",
       "4  False                   False      False                False   \n",
       "\n",
       "   neighbourhood    lat   long  instant_bookable  cancellation_policy  \\\n",
       "0          False  False  False             False                False   \n",
       "1          False  False  False             False                False   \n",
       "2          False  False  False             False                False   \n",
       "3          False  False  False             False                False   \n",
       "4          False  False  False             False                False   \n",
       "\n",
       "   room type  ...  service fee  minimum nights  number of reviews  \\\n",
       "0      False  ...        False           False              False   \n",
       "1      False  ...        False           False              False   \n",
       "2      False  ...        False           False              False   \n",
       "3      False  ...        False           False              False   \n",
       "4      False  ...        False           False              False   \n",
       "\n",
       "   last review  reviews per month  review rate number  \\\n",
       "0        False              False               False   \n",
       "1        False              False               False   \n",
       "2         True               True               False   \n",
       "3        False              False               False   \n",
       "4        False              False               False   \n",
       "\n",
       "   calculated host listings count  availability 365  house_rules  license  \n",
       "0                           False             False        False     True  \n",
       "1                           False             False        False     True  \n",
       "2                           False             False        False     True  \n",
       "3                           False             False         True     True  \n",
       "4                           False             False        False     True  \n",
       "\n",
       "[5 rows x 22 columns]"
      ]
     },
     "execution_count": 27,
     "metadata": {},
     "output_type": "execute_result"
    }
   ],
   "source": [
    "df.isnull().head() "
   ]
  },
  {
   "cell_type": "code",
   "execution_count": 35,
   "id": "2ba798f2",
   "metadata": {},
   "outputs": [
    {
     "data": {
      "text/plain": [
       "NAME                                 250\n",
       "host_identity_verified               289\n",
       "host name                            406\n",
       "neighbourhood group                   29\n",
       "neighbourhood                         16\n",
       "lat                                    8\n",
       "long                                   8\n",
       "instant_bookable                     105\n",
       "cancellation_policy                   76\n",
       "room type                              0\n",
       "Construction year                    214\n",
       "price                                247\n",
       "service fee                          273\n",
       "minimum nights                       409\n",
       "number of reviews                    183\n",
       "last review                        15893\n",
       "reviews per month                  15879\n",
       "review rate number                   326\n",
       "calculated host listings count       319\n",
       "availability 365                     448\n",
       "house_rules                        52131\n",
       "license                           102597\n",
       "dtype: int64"
      ]
     },
     "execution_count": 35,
     "metadata": {},
     "output_type": "execute_result"
    }
   ],
   "source": [
    "# Cuantos valores nulos hay en cada columna.\n",
    "df.isnull().sum()# .sort_values()"
   ]
  },
  {
   "cell_type": "code",
   "execution_count": 29,
   "id": "5fce16e1",
   "metadata": {},
   "outputs": [
    {
     "data": {
      "text/plain": [
       "room type                              0\n",
       "lat                                    8\n",
       "long                                   8\n",
       "neighbourhood                         16\n",
       "neighbourhood group                   29\n",
       "cancellation_policy                   76\n",
       "instant_bookable                     105\n",
       "number of reviews                    183\n",
       "Construction year                    214\n",
       "price                                247\n",
       "NAME                                 250\n",
       "service fee                          273\n",
       "host_identity_verified               289\n",
       "calculated host listings count       319\n",
       "review rate number                   326\n",
       "host name                            406\n",
       "minimum nights                       409\n",
       "availability 365                     448\n",
       "reviews per month                  15879\n",
       "last review                        15893\n",
       "house_rules                        52131\n",
       "license                           102597\n",
       "dtype: int64"
      ]
     },
     "execution_count": 29,
     "metadata": {},
     "output_type": "execute_result"
    }
   ],
   "source": [
    "df.isnull().sum().sort_values()"
   ]
  },
  {
   "cell_type": "code",
   "execution_count": 38,
   "id": "0762f16b",
   "metadata": {},
   "outputs": [
    {
     "name": "stdout",
     "output_type": "stream",
     "text": [
      "                                      NAME host_identity_verified host name  \\\n",
      "779  Large, furnished room in a 2 bedroom!            unconfirmed    Gibson   \n",
      "785      Authentic NY Charming Artist Loft            unconfirmed    Bailey   \n",
      "799         Huge room with private balcony               verified      Hunt   \n",
      "814    Decorators 5-Star Flat West Village               verified    Watson   \n",
      "843     Nice Private Room Beauty in Queens               verified   Roberts   \n",
      "885            Cute Room in Historic Loft!            unconfirmed     Jones   \n",
      "926        21 day Chelsea Apartment rental            unconfirmed     Owens   \n",
      "986         New York City for All Seasons!            unconfirmed   Douglas   \n",
      "\n",
      "    neighbourhood group      neighbourhood  lat  long instant_bookable  \\\n",
      "779            Brooklyn      Crown Heights  NaN   NaN            False   \n",
      "785            Brooklyn         Greenpoint  NaN   NaN            False   \n",
      "799           Manhattan       East Village  NaN   NaN            False   \n",
      "814           Manhattan       West Village  NaN   NaN             True   \n",
      "843              Queens           Elmhurst  NaN   NaN             True   \n",
      "885            Brooklyn         Greenpoint  NaN   NaN             True   \n",
      "926           Manhattan  Flatiron District  NaN   NaN            False   \n",
      "986           Manhattan    Upper West Side  NaN   NaN             True   \n",
      "\n",
      "    cancellation_policy        room type  ...  service fee minimum nights  \\\n",
      "779              strict     Private room  ...        $108             1.0   \n",
      "785              strict  Entire home/apt  ...        $212             5.0   \n",
      "799            flexible     Private room  ...        $101             6.0   \n",
      "814              strict  Entire home/apt  ...         $76            20.0   \n",
      "843              strict     Private room  ...         $45             1.0   \n",
      "885            flexible     Private room  ...        $105            14.0   \n",
      "926              strict     Private room  ...        $125            21.0   \n",
      "986            flexible     Private room  ...         $83             1.0   \n",
      "\n",
      "    number of reviews  last review  reviews per month review rate number  \\\n",
      "779               1.0    3/18/2017               0.04                2.0   \n",
      "785              14.0    6/19/2019               0.16                5.0   \n",
      "799               1.0     5/6/2013               0.01                1.0   \n",
      "814             157.0    8/11/2016               1.71                4.0   \n",
      "843              63.0    5/18/2019               0.89                3.0   \n",
      "885              22.0     5/2/2019               0.25                1.0   \n",
      "926               0.0          NaN                NaN                2.0   \n",
      "986              25.0    6/22/2013               0.28                2.0   \n",
      "\n",
      "     calculated host listings count  availability 365  \\\n",
      "779                             1.0              41.0   \n",
      "785                             1.0             226.0   \n",
      "799                             1.0             240.0   \n",
      "814                             1.0              61.0   \n",
      "843                             2.0              70.0   \n",
      "885                             1.0             266.0   \n",
      "926                             1.0             104.0   \n",
      "986                             1.0             259.0   \n",
      "\n",
      "                                           house_rules  license  \n",
      "779  - Weekly and monthly prices are much lower - P...      NaN  \n",
      "785  We live and let live - hoping that you'd be re...      NaN  \n",
      "799  Expect respect for the family and the space--t...      NaN  \n",
      "814  Please keep it clean, thats all we really ask ...      NaN  \n",
      "843                                                NaN      NaN  \n",
      "885  Pets are cool (just clean up after them!), smo...      NaN  \n",
      "926                                                NaN      NaN  \n",
      "986                                 No Smoking No Pets      NaN  \n",
      "\n",
      "[8 rows x 22 columns]\n"
     ]
    }
   ],
   "source": [
    "# Veamos que ocurre con los valores nulos en la columna lat filtrando por ellos\n",
    "print(df[df['lat'].isnull()])"
   ]
  },
  {
   "cell_type": "code",
   "execution_count": 43,
   "id": "7dc17193",
   "metadata": {},
   "outputs": [
    {
     "name": "stdout",
     "output_type": "stream",
     "text": [
      "<class 'pandas.core.frame.DataFrame'>\n",
      "RangeIndex: 102599 entries, 0 to 102598\n",
      "Data columns (total 22 columns):\n",
      " #   Column                          Non-Null Count   Dtype  \n",
      "---  ------                          --------------   -----  \n",
      " 0   NAME                            102349 non-null  object \n",
      " 1   host_identity_verified          102310 non-null  object \n",
      " 2   host name                       102193 non-null  object \n",
      " 3   neighbourhood group             102570 non-null  object \n",
      " 4   neighbourhood                   102583 non-null  object \n",
      " 5   lat                             102591 non-null  float64\n",
      " 6   long                            102591 non-null  float64\n",
      " 7   instant_bookable                102494 non-null  object \n",
      " 8   cancellation_policy             102523 non-null  object \n",
      " 9   room type                       102599 non-null  object \n",
      " 10  Construction year               102385 non-null  float64\n",
      " 11  price                           102352 non-null  object \n",
      " 12  service fee                     102326 non-null  object \n",
      " 13  minimum nights                  102190 non-null  float64\n",
      " 14  number of reviews               102416 non-null  float64\n",
      " 15  last review                     86706 non-null   object \n",
      " 16  reviews per month               86720 non-null   float64\n",
      " 17  review rate number              102273 non-null  float64\n",
      " 18  calculated host listings count  102280 non-null  float64\n",
      " 19  availability 365                102151 non-null  float64\n",
      " 20  house_rules                     50468 non-null   object \n",
      " 21  license                         2 non-null       object \n",
      "dtypes: float64(9), object(13)\n",
      "memory usage: 17.2+ MB\n"
     ]
    }
   ],
   "source": [
    "df.info()"
   ]
  },
  {
   "cell_type": "code",
   "execution_count": 45,
   "id": "1d71cf0b",
   "metadata": {},
   "outputs": [
    {
     "name": "stdout",
     "output_type": "stream",
     "text": [
      "250\n",
      "289\n",
      "406\n",
      "29\n",
      "16\n",
      "8\n",
      "8\n",
      "105\n",
      "76\n",
      "0\n",
      "214\n",
      "247\n",
      "273\n",
      "409\n",
      "183\n",
      "15893\n",
      "15879\n",
      "326\n",
      "319\n",
      "448\n",
      "52131\n",
      "102597\n"
     ]
    }
   ],
   "source": [
    "# Que valores de tipo object hay en la que son igual a 0\n",
    "for col in df.columns:\n",
    "    print(df[col].isnull().sum())\n",
    "    # print(df[df[col]== '0'])"
   ]
  },
  {
   "cell_type": "code",
   "execution_count": 46,
   "id": "9288e75c",
   "metadata": {},
   "outputs": [
    {
     "name": "stdout",
     "output_type": "stream",
     "text": [
      "Empty DataFrame\n",
      "Columns: [NAME, host_identity_verified, host name, neighbourhood group, neighbourhood, lat, long, instant_bookable, cancellation_policy, room type, Construction year, price, service fee, minimum nights, number of reviews, last review, reviews per month, review rate number, calculated host listings count, availability 365, house_rules, license]\n",
      "Index: []\n",
      "\n",
      "[0 rows x 22 columns]\n",
      "Empty DataFrame\n",
      "Columns: [NAME, host_identity_verified, host name, neighbourhood group, neighbourhood, lat, long, instant_bookable, cancellation_policy, room type, Construction year, price, service fee, minimum nights, number of reviews, last review, reviews per month, review rate number, calculated host listings count, availability 365, house_rules, license]\n",
      "Index: []\n",
      "\n",
      "[0 rows x 22 columns]\n",
      "Empty DataFrame\n",
      "Columns: [NAME, host_identity_verified, host name, neighbourhood group, neighbourhood, lat, long, instant_bookable, cancellation_policy, room type, Construction year, price, service fee, minimum nights, number of reviews, last review, reviews per month, review rate number, calculated host listings count, availability 365, house_rules, license]\n",
      "Index: []\n",
      "\n",
      "[0 rows x 22 columns]\n",
      "Empty DataFrame\n",
      "Columns: [NAME, host_identity_verified, host name, neighbourhood group, neighbourhood, lat, long, instant_bookable, cancellation_policy, room type, Construction year, price, service fee, minimum nights, number of reviews, last review, reviews per month, review rate number, calculated host listings count, availability 365, house_rules, license]\n",
      "Index: []\n",
      "\n",
      "[0 rows x 22 columns]\n",
      "Empty DataFrame\n",
      "Columns: [NAME, host_identity_verified, host name, neighbourhood group, neighbourhood, lat, long, instant_bookable, cancellation_policy, room type, Construction year, price, service fee, minimum nights, number of reviews, last review, reviews per month, review rate number, calculated host listings count, availability 365, house_rules, license]\n",
      "Index: []\n",
      "\n",
      "[0 rows x 22 columns]\n",
      "Empty DataFrame\n",
      "Columns: [NAME, host_identity_verified, host name, neighbourhood group, neighbourhood, lat, long, instant_bookable, cancellation_policy, room type, Construction year, price, service fee, minimum nights, number of reviews, last review, reviews per month, review rate number, calculated host listings count, availability 365, house_rules, license]\n",
      "Index: []\n",
      "\n",
      "[0 rows x 22 columns]\n",
      "Empty DataFrame\n",
      "Columns: [NAME, host_identity_verified, host name, neighbourhood group, neighbourhood, lat, long, instant_bookable, cancellation_policy, room type, Construction year, price, service fee, minimum nights, number of reviews, last review, reviews per month, review rate number, calculated host listings count, availability 365, house_rules, license]\n",
      "Index: []\n",
      "\n",
      "[0 rows x 22 columns]\n",
      "Empty DataFrame\n",
      "Columns: [NAME, host_identity_verified, host name, neighbourhood group, neighbourhood, lat, long, instant_bookable, cancellation_policy, room type, Construction year, price, service fee, minimum nights, number of reviews, last review, reviews per month, review rate number, calculated host listings count, availability 365, house_rules, license]\n",
      "Index: []\n",
      "\n",
      "[0 rows x 22 columns]\n",
      "Empty DataFrame\n",
      "Columns: [NAME, host_identity_verified, host name, neighbourhood group, neighbourhood, lat, long, instant_bookable, cancellation_policy, room type, Construction year, price, service fee, minimum nights, number of reviews, last review, reviews per month, review rate number, calculated host listings count, availability 365, house_rules, license]\n",
      "Index: []\n",
      "\n",
      "[0 rows x 22 columns]\n",
      "Empty DataFrame\n",
      "Columns: [NAME, host_identity_verified, host name, neighbourhood group, neighbourhood, lat, long, instant_bookable, cancellation_policy, room type, Construction year, price, service fee, minimum nights, number of reviews, last review, reviews per month, review rate number, calculated host listings count, availability 365, house_rules, license]\n",
      "Index: []\n",
      "\n",
      "[0 rows x 22 columns]\n",
      "Empty DataFrame\n",
      "Columns: [NAME, host_identity_verified, host name, neighbourhood group, neighbourhood, lat, long, instant_bookable, cancellation_policy, room type, Construction year, price, service fee, minimum nights, number of reviews, last review, reviews per month, review rate number, calculated host listings count, availability 365, house_rules, license]\n",
      "Index: []\n",
      "\n",
      "[0 rows x 22 columns]\n",
      "Empty DataFrame\n",
      "Columns: [NAME, host_identity_verified, host name, neighbourhood group, neighbourhood, lat, long, instant_bookable, cancellation_policy, room type, Construction year, price, service fee, minimum nights, number of reviews, last review, reviews per month, review rate number, calculated host listings count, availability 365, house_rules, license]\n",
      "Index: []\n",
      "\n",
      "[0 rows x 22 columns]\n",
      "Empty DataFrame\n",
      "Columns: [NAME, host_identity_verified, host name, neighbourhood group, neighbourhood, lat, long, instant_bookable, cancellation_policy, room type, Construction year, price, service fee, minimum nights, number of reviews, last review, reviews per month, review rate number, calculated host listings count, availability 365, house_rules, license]\n",
      "Index: []\n",
      "\n",
      "[0 rows x 22 columns]\n",
      "Empty DataFrame\n",
      "Columns: [NAME, host_identity_verified, host name, neighbourhood group, neighbourhood, lat, long, instant_bookable, cancellation_policy, room type, Construction year, price, service fee, minimum nights, number of reviews, last review, reviews per month, review rate number, calculated host listings count, availability 365, house_rules, license]\n",
      "Index: []\n",
      "\n",
      "[0 rows x 22 columns]\n",
      "Empty DataFrame\n",
      "Columns: [NAME, host_identity_verified, host name, neighbourhood group, neighbourhood, lat, long, instant_bookable, cancellation_policy, room type, Construction year, price, service fee, minimum nights, number of reviews, last review, reviews per month, review rate number, calculated host listings count, availability 365, house_rules, license]\n",
      "Index: []\n",
      "\n",
      "[0 rows x 22 columns]\n",
      "Empty DataFrame\n",
      "Columns: [NAME, host_identity_verified, host name, neighbourhood group, neighbourhood, lat, long, instant_bookable, cancellation_policy, room type, Construction year, price, service fee, minimum nights, number of reviews, last review, reviews per month, review rate number, calculated host listings count, availability 365, house_rules, license]\n",
      "Index: []\n",
      "\n",
      "[0 rows x 22 columns]\n",
      "Empty DataFrame\n",
      "Columns: [NAME, host_identity_verified, host name, neighbourhood group, neighbourhood, lat, long, instant_bookable, cancellation_policy, room type, Construction year, price, service fee, minimum nights, number of reviews, last review, reviews per month, review rate number, calculated host listings count, availability 365, house_rules, license]\n",
      "Index: []\n",
      "\n",
      "[0 rows x 22 columns]\n",
      "Empty DataFrame\n",
      "Columns: [NAME, host_identity_verified, host name, neighbourhood group, neighbourhood, lat, long, instant_bookable, cancellation_policy, room type, Construction year, price, service fee, minimum nights, number of reviews, last review, reviews per month, review rate number, calculated host listings count, availability 365, house_rules, license]\n",
      "Index: []\n",
      "\n",
      "[0 rows x 22 columns]\n",
      "Empty DataFrame\n",
      "Columns: [NAME, host_identity_verified, host name, neighbourhood group, neighbourhood, lat, long, instant_bookable, cancellation_policy, room type, Construction year, price, service fee, minimum nights, number of reviews, last review, reviews per month, review rate number, calculated host listings count, availability 365, house_rules, license]\n",
      "Index: []\n",
      "\n",
      "[0 rows x 22 columns]\n",
      "Empty DataFrame\n",
      "Columns: [NAME, host_identity_verified, host name, neighbourhood group, neighbourhood, lat, long, instant_bookable, cancellation_policy, room type, Construction year, price, service fee, minimum nights, number of reviews, last review, reviews per month, review rate number, calculated host listings count, availability 365, house_rules, license]\n",
      "Index: []\n",
      "\n",
      "[0 rows x 22 columns]\n",
      "Empty DataFrame\n",
      "Columns: [NAME, host_identity_verified, host name, neighbourhood group, neighbourhood, lat, long, instant_bookable, cancellation_policy, room type, Construction year, price, service fee, minimum nights, number of reviews, last review, reviews per month, review rate number, calculated host listings count, availability 365, house_rules, license]\n",
      "Index: []\n",
      "\n",
      "[0 rows x 22 columns]\n",
      "Empty DataFrame\n",
      "Columns: [NAME, host_identity_verified, host name, neighbourhood group, neighbourhood, lat, long, instant_bookable, cancellation_policy, room type, Construction year, price, service fee, minimum nights, number of reviews, last review, reviews per month, review rate number, calculated host listings count, availability 365, house_rules, license]\n",
      "Index: []\n",
      "\n",
      "[0 rows x 22 columns]\n"
     ]
    }
   ],
   "source": [
    "# Ver los nulos por columna: Es lo que acabamos de hacer.\n",
    "for col in df.columns:\n",
    "    print(df[df[col]== '0'])"
   ]
  },
  {
   "cell_type": "code",
   "execution_count": 48,
   "id": "dc614376",
   "metadata": {},
   "outputs": [
    {
     "data": {
      "text/plain": [
       "40.72229"
      ]
     },
     "execution_count": 48,
     "metadata": {},
     "output_type": "execute_result"
    }
   ],
   "source": [
    "# Calculo de la media de las columnas que son numéricas.\n",
    "df['lat'].median()"
   ]
  },
  {
   "cell_type": "code",
   "execution_count": 49,
   "id": "2419ab99",
   "metadata": {},
   "outputs": [
    {
     "data": {
      "text/plain": [
       "0    40.76411\n",
       "Name: lat, dtype: float64"
      ]
     },
     "execution_count": 49,
     "metadata": {},
     "output_type": "execute_result"
    }
   ],
   "source": [
    "# Calculo de la moda de las columnas que son numéricas.\n",
    "df['lat'].mode()"
   ]
  },
  {
   "cell_type": "code",
   "execution_count": 51,
   "id": "a3e1cb4b",
   "metadata": {},
   "outputs": [
    {
     "data": {
      "text/plain": [
       "neighbourhood\n",
       "Bedford-Stuyvesant        7937\n",
       "Williamsburg              7775\n",
       "Harlem                    5466\n",
       "Bushwick                  4982\n",
       "Hell's Kitchen            3965\n",
       "                          ... \n",
       "Woodrow                      3\n",
       "Lighthouse Hill              3\n",
       "Glen Oaks                    2\n",
       "Fort Wadsworth               2\n",
       "Chelsea, Staten Island       1\n",
       "Name: neighbourhood, Length: 224, dtype: int64"
      ]
     },
     "execution_count": 51,
     "metadata": {},
     "output_type": "execute_result"
    }
   ],
   "source": [
    "# En caso de tratarse de una columna categorica podemos imptar la moda, que es el valor que más se repite.\n",
    "df['neighbourhood'].groupby(df['neighbourhood']).count().sort_values(ascending=False)"
   ]
  },
  {
   "cell_type": "code",
   "execution_count": 53,
   "id": "ac8914b2",
   "metadata": {},
   "outputs": [
    {
     "data": {
      "text/plain": [
       "'Kensington'"
      ]
     },
     "execution_count": 53,
     "metadata": {},
     "output_type": "execute_result"
    }
   ],
   "source": [
    "df['neighbourhood'].fillna(df['neighbourhood'].mode())[0] # , inplace=True)"
   ]
  },
  {
   "cell_type": "code",
   "execution_count": 55,
   "id": "d57ca3e1",
   "metadata": {},
   "outputs": [
    {
     "data": {
      "text/plain": [
       "40.64749"
      ]
     },
     "execution_count": 55,
     "metadata": {},
     "output_type": "execute_result"
    }
   ],
   "source": [
    "df['lat'].fillna(value=df['lat'].mode())[0]#, inplace=True)\n"
   ]
  },
  {
   "cell_type": "code",
   "execution_count": 56,
   "id": "24086be6",
   "metadata": {},
   "outputs": [
    {
     "name": "stdout",
     "output_type": "stream",
     "text": [
      "Rellenando valores nulos en la columna categórica: NAME\n",
      "Rellenando valores nulos en la columna categórica: host_identity_verified\n",
      "Rellenando valores nulos en la columna categórica: host name\n",
      "Rellenando valores nulos en la columna categórica: neighbourhood group\n",
      "Rellenando valores nulos en la columna categórica: neighbourhood\n",
      "Rellenando valores nulos en la columna numérica: lat\n",
      "Rellenando valores nulos en la columna numérica: long\n",
      "Rellenando valores nulos en la columna categórica: instant_bookable\n",
      "Rellenando valores nulos en la columna categórica: cancellation_policy\n",
      "Rellenando valores nulos en la columna categórica: room type\n",
      "Rellenando valores nulos en la columna numérica: Construction year\n",
      "Rellenando valores nulos en la columna categórica: price\n",
      "Rellenando valores nulos en la columna categórica: service fee\n",
      "Rellenando valores nulos en la columna numérica: minimum nights\n",
      "Rellenando valores nulos en la columna numérica: number of reviews\n",
      "Rellenando valores nulos en la columna categórica: last review\n",
      "Rellenando valores nulos en la columna numérica: reviews per month\n",
      "Rellenando valores nulos en la columna numérica: review rate number\n",
      "Rellenando valores nulos en la columna numérica: calculated host listings count\n",
      "Rellenando valores nulos en la columna numérica: availability 365\n",
      "Rellenando valores nulos en la columna categórica: house_rules\n",
      "Rellenando valores nulos en la columna categórica: license\n"
     ]
    }
   ],
   "source": [
    "for col in df.columns:\n",
    "    # Si la columna es de tipo object ('O'), se asume que es categórica o de texto\n",
    "    if df[col].dtype == 'O':\n",
    "        # Imprimir el nombre de la columna categórica\n",
    "        print(\"Rellenando valores nulos en la columna categórica:\", col)\n",
    "        # Rellenar valores nulos con la moda (el valor más frecuente)\n",
    "        df[col].fillna(value=df[col].mode()[0], inplace=True)\n",
    "    else:\n",
    "        # Para columnas numéricas, rellenar con la mediana\n",
    "        print(\"Rellenando valores nulos en la columna numérica:\", col)\n",
    "        df[col].fillna(value=df[col].median(), inplace=True)"
   ]
  },
  {
   "cell_type": "code",
   "execution_count": 58,
   "id": "pJDuUXTTK86A",
   "metadata": {
    "id": "pJDuUXTTK86A"
   },
   "outputs": [
    {
     "data": {
      "text/plain": [
       "NAME                              0\n",
       "availability 365                  0\n",
       "calculated host listings count    0\n",
       "review rate number                0\n",
       "reviews per month                 0\n",
       "last review                       0\n",
       "number of reviews                 0\n",
       "minimum nights                    0\n",
       "service fee                       0\n",
       "price                             0\n",
       "Construction year                 0\n",
       "room type                         0\n",
       "cancellation_policy               0\n",
       "instant_bookable                  0\n",
       "long                              0\n",
       "lat                               0\n",
       "neighbourhood                     0\n",
       "neighbourhood group               0\n",
       "host name                         0\n",
       "host_identity_verified            0\n",
       "house_rules                       0\n",
       "license                           0\n",
       "dtype: int64"
      ]
     },
     "execution_count": 58,
     "metadata": {},
     "output_type": "execute_result"
    }
   ],
   "source": [
    "## Muestra el número total de registros antes y después de eliminar los duplicados.\n",
    "df.isnull().sum().sort_values()\n"
   ]
  },
  {
   "cell_type": "markdown",
   "id": "d92cbfc2",
   "metadata": {},
   "source": [
    "### Comprueba si hay valores duplicados y elimínalos."
   ]
  },
  {
   "cell_type": "code",
   "execution_count": 61,
   "id": "d7589771",
   "metadata": {},
   "outputs": [
    {
     "data": {
      "text/plain": [
       "3461"
      ]
     },
     "execution_count": 61,
     "metadata": {},
     "output_type": "execute_result"
    }
   ],
   "source": [
    "df.duplicated().sum()"
   ]
  },
  {
   "cell_type": "code",
   "execution_count": 62,
   "id": "730af716",
   "metadata": {},
   "outputs": [],
   "source": [
    "# Eliminaremos los duplicados.\n",
    "df.drop_duplicates(inplace=True)"
   ]
  },
  {
   "cell_type": "code",
   "execution_count": 63,
   "id": "cd0072f5",
   "metadata": {},
   "outputs": [
    {
     "data": {
      "text/plain": [
       "0"
      ]
     },
     "execution_count": 63,
     "metadata": {},
     "output_type": "execute_result"
    }
   ],
   "source": [
    "df.duplicated().sum()"
   ]
  },
  {
   "cell_type": "code",
   "execution_count": 64,
   "id": "5efb60a3",
   "metadata": {},
   "outputs": [
    {
     "data": {
      "text/plain": [
       "(99138, 22)"
      ]
     },
     "execution_count": 64,
     "metadata": {},
     "output_type": "execute_result"
    }
   ],
   "source": [
    "df.shape"
   ]
  },
  {
   "cell_type": "markdown",
   "id": "jI9H0IAEK86B",
   "metadata": {
    "id": "jI9H0IAEK86B"
   },
   "source": [
    "## Tarea 3: Transformación de datos (cualquier herramienta)\n",
    "\n",
    "\n",
    "\n",
    "\n",
    "\n",
    "- Cambia el nombre de la columna `availability 365` a `days_booked`.\n",
    "- Convierte todos los nombres de columna a minúsculas y sustituye los espacios en los nombres de columna por un guión bajo \"_\".\n",
    "- Elimina el signo de dólares y la coma de las columnas `price` y `service_fee`. Si es necesario, convierte estas dos columnas al tipo de datos adecuado.\n",
    "\n",
    "\n",
    "\n",
    "Si utilizas Python para este ejercicio, incluye el código que hayas utilizado en las celdas siguientes. Si utilizas cualquier otra herramienta, incluye capturas de pantalla de tu trabajo."
   ]
  },
  {
   "cell_type": "code",
   "execution_count": 65,
   "id": "dzJpmYvhK86B",
   "metadata": {
    "id": "dzJpmYvhK86B"
   },
   "outputs": [],
   "source": [
    "## Cambia el nombre de la columna.\n",
    "df.rename(columns={'availability 365': 'days_booked'}, inplace=True)\n"
   ]
  },
  {
   "cell_type": "code",
   "execution_count": 77,
   "id": "KqsgZ1aBK86C",
   "metadata": {
    "id": "KqsgZ1aBK86C"
   },
   "outputs": [
    {
     "data": {
      "text/plain": [
       "'Midtown'"
      ]
     },
     "execution_count": 77,
     "metadata": {},
     "output_type": "execute_result"
    }
   ],
   "source": [
    "## Convierte todos los nombres de columna a minúsculas y sustituye los espacios por un guión bajo \"_\".\n",
    "cities = df.neighbourhood.unique()[1]\n",
    "cities"
   ]
  },
  {
   "cell_type": "code",
   "execution_count": 78,
   "id": "1e095c78",
   "metadata": {},
   "outputs": [
    {
     "data": {
      "text/plain": [
       "'midtown'"
      ]
     },
     "execution_count": 78,
     "metadata": {},
     "output_type": "execute_result"
    }
   ],
   "source": [
    "cities.lower()"
   ]
  },
  {
   "cell_type": "code",
   "execution_count": 80,
   "id": "b70d9005",
   "metadata": {},
   "outputs": [
    {
     "data": {
      "text/plain": [
       "'Clinton Hill'"
      ]
     },
     "execution_count": 80,
     "metadata": {},
     "output_type": "execute_result"
    }
   ],
   "source": [
    "# Sustituye los valores de una palabra que contine espacios en una palabra separada por un guión bajo \"_\".\n",
    "cities_3 = df.neighbourhood.unique()[3]\n",
    "cities_3"
   ]
  },
  {
   "cell_type": "code",
   "execution_count": 83,
   "id": "cd23f651",
   "metadata": {},
   "outputs": [
    {
     "data": {
      "text/plain": [
       "'Clinton_Hill'"
      ]
     },
     "execution_count": 83,
     "metadata": {},
     "output_type": "execute_result"
    }
   ],
   "source": [
    "cities_3.replace(\" \", \"_\")"
   ]
  },
  {
   "cell_type": "code",
   "execution_count": 84,
   "id": "b9f9b873",
   "metadata": {},
   "outputs": [
    {
     "data": {
      "text/plain": [
       "Index(['name', 'host_identity_verified', 'host_name', 'neighbourhood_group',\n",
       "       'neighbourhood', 'lat', 'long', 'instant_bookable',\n",
       "       'cancellation_policy', 'room_type', 'construction_year', 'price',\n",
       "       'service_fee', 'minimum_nights', 'number_of_reviews', 'last_review',\n",
       "       'reviews_per_month', 'review_rate_number',\n",
       "       'calculated_host_listings_count', 'days_booked', 'house_rules',\n",
       "       'license'],\n",
       "      dtype='object')"
      ]
     },
     "execution_count": 84,
     "metadata": {},
     "output_type": "execute_result"
    }
   ],
   "source": [
    "df.columns = [col.lower().replace(\" \", \"_\") for col in df.columns]\n",
    "df.columns"
   ]
  },
  {
   "cell_type": "code",
   "execution_count": 85,
   "id": "84930b2d",
   "metadata": {},
   "outputs": [
    {
     "data": {
      "text/plain": [
       "0           $966 \n",
       "1           $142 \n",
       "2           $620 \n",
       "3           $368 \n",
       "4           $204 \n",
       "           ...   \n",
       "102053      $696 \n",
       "102054      $909 \n",
       "102055      $387 \n",
       "102056      $848 \n",
       "102057    $1,128 \n",
       "Name: price, Length: 99138, dtype: object"
      ]
     },
     "execution_count": 85,
     "metadata": {},
     "output_type": "execute_result"
    }
   ],
   "source": []
  },
  {
   "cell_type": "code",
   "execution_count": 95,
   "id": "m66wCpyoK86C",
   "metadata": {
    "id": "m66wCpyoK86C"
   },
   "outputs": [
    {
     "data": {
      "text/html": [
       "<div>\n",
       "<style scoped>\n",
       "    .dataframe tbody tr th:only-of-type {\n",
       "        vertical-align: middle;\n",
       "    }\n",
       "\n",
       "    .dataframe tbody tr th {\n",
       "        vertical-align: top;\n",
       "    }\n",
       "\n",
       "    .dataframe thead th {\n",
       "        text-align: right;\n",
       "    }\n",
       "</style>\n",
       "<table border=\"1\" class=\"dataframe\">\n",
       "  <thead>\n",
       "    <tr style=\"text-align: right;\">\n",
       "      <th></th>\n",
       "    </tr>\n",
       "    <tr>\n",
       "      <th>price</th>\n",
       "    </tr>\n",
       "  </thead>\n",
       "  <tbody>\n",
       "    <tr>\n",
       "      <th>$1,000</th>\n",
       "    </tr>\n",
       "    <tr>\n",
       "      <th>$1,001</th>\n",
       "    </tr>\n",
       "    <tr>\n",
       "      <th>$1,002</th>\n",
       "    </tr>\n",
       "    <tr>\n",
       "      <th>$1,003</th>\n",
       "    </tr>\n",
       "    <tr>\n",
       "      <th>$1,004</th>\n",
       "    </tr>\n",
       "    <tr>\n",
       "      <th>...</th>\n",
       "    </tr>\n",
       "    <tr>\n",
       "      <th>$995</th>\n",
       "    </tr>\n",
       "    <tr>\n",
       "      <th>$996</th>\n",
       "    </tr>\n",
       "    <tr>\n",
       "      <th>$997</th>\n",
       "    </tr>\n",
       "    <tr>\n",
       "      <th>$998</th>\n",
       "    </tr>\n",
       "    <tr>\n",
       "      <th>$999</th>\n",
       "    </tr>\n",
       "  </tbody>\n",
       "</table>\n",
       "<p>1151 rows × 0 columns</p>\n",
       "</div>"
      ],
      "text/plain": [
       "Empty DataFrame\n",
       "Columns: []\n",
       "Index: [$1,000 , $1,001 , $1,002 , $1,003 , $1,004 , $1,005 , $1,006 , $1,007 , $1,008 , $1,009 , $1,010 , $1,011 , $1,012 , $1,013 , $1,014 , $1,015 , $1,016 , $1,017 , $1,018 , $1,019 , $1,020 , $1,021 , $1,022 , $1,023 , $1,024 , $1,025 , $1,026 , $1,027 , $1,028 , $1,029 , $1,030 , $1,031 , $1,032 , $1,033 , $1,034 , $1,035 , $1,036 , $1,037 , $1,038 , $1,039 , $1,040 , $1,041 , $1,042 , $1,043 , $1,044 , $1,045 , $1,046 , $1,047 , $1,048 , $1,049 , $1,050 , $1,051 , $1,052 , $1,053 , $1,054 , $1,055 , $1,056 , $1,057 , $1,058 , $1,059 , $1,060 , $1,061 , $1,062 , $1,063 , $1,064 , $1,065 , $1,066 , $1,067 , $1,068 , $1,069 , $1,070 , $1,071 , $1,072 , $1,073 , $1,074 , $1,075 , $1,076 , $1,077 , $1,078 , $1,079 , $1,080 , $1,081 , $1,082 , $1,083 , $1,084 , $1,085 , $1,086 , $1,087 , $1,088 , $1,089 , $1,090 , $1,091 , $1,092 , $1,093 , $1,094 , $1,095 , $1,096 , $1,097 , $1,098 , $1,099 , ...]\n",
       "\n",
       "[1151 rows x 0 columns]"
      ]
     },
     "execution_count": 95,
     "metadata": {},
     "output_type": "execute_result"
    }
   ],
   "source": [
    "## Elimina el signo de dólares y la coma de las columnas. Si es necesario, convierte estas dos columnas al tipo de datos adecuado.\n",
    "\n",
    "df[['price']].groupby('price').count()"
   ]
  },
  {
   "cell_type": "code",
   "execution_count": 97,
   "id": "2b6df3a4",
   "metadata": {},
   "outputs": [
    {
     "data": {
      "text/plain": [
       "0         False\n",
       "1         False\n",
       "2         False\n",
       "3         False\n",
       "4         False\n",
       "          ...  \n",
       "102053    False\n",
       "102054    False\n",
       "102055    False\n",
       "102056    False\n",
       "102057    False\n",
       "Name: price, Length: 99138, dtype: bool"
      ]
     },
     "execution_count": 97,
     "metadata": {},
     "output_type": "execute_result"
    }
   ],
   "source": [
    "pd.isna(df['price'])#.sum()"
   ]
  },
  {
   "cell_type": "code",
   "execution_count": 132,
   "id": "59bca376",
   "metadata": {},
   "outputs": [
    {
     "data": {
      "text/plain": [
       "'$1,001 '"
      ]
     },
     "execution_count": 132,
     "metadata": {},
     "output_type": "execute_result"
    }
   ],
   "source": [
    "price_val = df.loc[1606, 'price']\n",
    "price_val"
   ]
  },
  {
   "cell_type": "code",
   "execution_count": 105,
   "id": "bbec5bea",
   "metadata": {},
   "outputs": [
    {
     "data": {
      "text/plain": [
       "'966 '"
      ]
     },
     "execution_count": 105,
     "metadata": {},
     "output_type": "execute_result"
    }
   ],
   "source": [
    "price_val_noDollar = price_val.replace(\"$\", \"\")\n",
    "price_val_noDollar"
   ]
  },
  {
   "cell_type": "code",
   "execution_count": 108,
   "id": "1c640e2c",
   "metadata": {},
   "outputs": [
    {
     "data": {
      "text/plain": [
       "'966 '"
      ]
     },
     "execution_count": 108,
     "metadata": {},
     "output_type": "execute_result"
    }
   ],
   "source": [
    "price_val_noDollar_noSpace = price_val_noDollar.replace(\",\", \"\")\n",
    "price_val_noDollar_noSpace"
   ]
  },
  {
   "cell_type": "markdown",
   "id": "d2d913c8",
   "metadata": {},
   "source": [
    "### Ejemplo de funcion basica"
   ]
  },
  {
   "cell_type": "code",
   "execution_count": 134,
   "id": "0c0b0b6f",
   "metadata": {},
   "outputs": [],
   "source": [
    "def square_number(number):\n",
    "    return number ** 2"
   ]
  },
  {
   "cell_type": "code",
   "execution_count": 136,
   "id": "fe7c17dd",
   "metadata": {},
   "outputs": [
    {
     "data": {
      "text/plain": [
       "36"
      ]
     },
     "execution_count": 136,
     "metadata": {},
     "output_type": "execute_result"
    }
   ],
   "source": [
    "square_number(6)"
   ]
  },
  {
   "cell_type": "code",
   "execution_count": 137,
   "id": "9820f9f7",
   "metadata": {},
   "outputs": [
    {
     "data": {
      "text/html": [
       "<div>\n",
       "<style scoped>\n",
       "    .dataframe tbody tr th:only-of-type {\n",
       "        vertical-align: middle;\n",
       "    }\n",
       "\n",
       "    .dataframe tbody tr th {\n",
       "        vertical-align: top;\n",
       "    }\n",
       "\n",
       "    .dataframe thead th {\n",
       "        text-align: right;\n",
       "    }\n",
       "</style>\n",
       "<table border=\"1\" class=\"dataframe\">\n",
       "  <thead>\n",
       "    <tr style=\"text-align: right;\">\n",
       "      <th></th>\n",
       "      <th>number</th>\n",
       "    </tr>\n",
       "  </thead>\n",
       "  <tbody>\n",
       "    <tr>\n",
       "      <th>0</th>\n",
       "      <td>1</td>\n",
       "    </tr>\n",
       "    <tr>\n",
       "      <th>1</th>\n",
       "      <td>2</td>\n",
       "    </tr>\n",
       "    <tr>\n",
       "      <th>2</th>\n",
       "      <td>3</td>\n",
       "    </tr>\n",
       "  </tbody>\n",
       "</table>\n",
       "</div>"
      ],
      "text/plain": [
       "   number\n",
       "0       1\n",
       "1       2\n",
       "2       3"
      ]
     },
     "execution_count": 137,
     "metadata": {},
     "output_type": "execute_result"
    }
   ],
   "source": [
    "# Crear un DataFrame de ejemplo\n",
    "data = {'number': [1, 2, 3]}\n",
    "df_exem = pd.DataFrame(data)\n",
    "df_exem\n"
   ]
  },
  {
   "cell_type": "code",
   "execution_count": 138,
   "id": "dbe6a436",
   "metadata": {},
   "outputs": [
    {
     "data": {
      "text/plain": [
       "0    1\n",
       "1    4\n",
       "2    9\n",
       "Name: squared_number, dtype: int64"
      ]
     },
     "execution_count": 138,
     "metadata": {},
     "output_type": "execute_result"
    }
   ],
   "source": [
    "# Aplicar la función a la columna 'number' utilizando apply\n",
    "df_exem['squared_number'] = df_exem['number'].apply(square_number)\n",
    "\n",
    "df_exem['squared_number']"
   ]
  },
  {
   "cell_type": "markdown",
   "id": "faf095de",
   "metadata": {},
   "source": [
    "### Creamos una fución a doc conlo aprendido para eliminar $ y \",\""
   ]
  },
  {
   "cell_type": "code",
   "execution_count": 139,
   "id": "f89ad24c",
   "metadata": {},
   "outputs": [],
   "source": [
    "def remove_dollar_sign(value):\n",
    "    if pd.isna(value):\n",
    "        return np.NaN\n",
    "    else:\n",
    "        return float(value.replace(\"$\", \"\").replace(\",\", \"\"))"
   ]
  },
  {
   "cell_type": "code",
   "execution_count": 140,
   "id": "f4e40ebb",
   "metadata": {},
   "outputs": [
    {
     "data": {
      "text/plain": [
       "0          966.0\n",
       "1          142.0\n",
       "2          620.0\n",
       "3          368.0\n",
       "4          204.0\n",
       "           ...  \n",
       "102053     696.0\n",
       "102054     909.0\n",
       "102055     387.0\n",
       "102056     848.0\n",
       "102057    1128.0\n",
       "Name: price, Length: 99138, dtype: float64"
      ]
     },
     "execution_count": 140,
     "metadata": {},
     "output_type": "execute_result"
    }
   ],
   "source": [
    "# Aplicamos la función a la columna 'price' utilizando apply\n",
    "df['price'] = df['price'].apply(lambda x: remove_dollar_sign(x))\n",
    "df['price'] \n",
    "\n"
   ]
  },
  {
   "cell_type": "code",
   "execution_count": 141,
   "id": "da488cf1",
   "metadata": {},
   "outputs": [
    {
     "data": {
      "text/plain": [
       "0         193.0\n",
       "1          28.0\n",
       "2         124.0\n",
       "3          74.0\n",
       "4          41.0\n",
       "          ...  \n",
       "102053     41.0\n",
       "102054     41.0\n",
       "102055     41.0\n",
       "102056     41.0\n",
       "102057     41.0\n",
       "Name: service_fee, Length: 99138, dtype: float64"
      ]
     },
     "execution_count": 141,
     "metadata": {},
     "output_type": "execute_result"
    }
   ],
   "source": [
    "# Apliquemos la función a la columna 'service_fee' utilizando apply\n",
    "df['service_fee'] = df['service_fee'].apply(lambda x: remove_dollar_sign(x))\n",
    "df['service_fee']"
   ]
  },
  {
   "cell_type": "markdown",
   "id": "DxyVsRzyK86C",
   "metadata": {
    "id": "DxyVsRzyK86C"
   },
   "source": [
    "# Tarea 4: Análisis exploratorio de datos (cualquier herramienta)\n",
    "\n",
    "\n",
    "* Enumera los tipos de habitaciones disponibles en el <i>dataset</i>.\n",
    "* ¿Qué tipo de habitación tiene la política de cancelación más estricta?\n",
    "* Enumera el precio medio por barrio y señala cuál es el conjunto de barrios más caro para alquilar.\n",
    "\n",
    "\n",
    "\n",
    "Si utilizas Python para este ejercicio, incluye el código que hayas utilizado en las celdas siguientes. Si utilizas cualquier otra herramienta, incluye capturas de pantalla de tu trabajo."
   ]
  },
  {
   "cell_type": "markdown",
   "id": "067841fa",
   "metadata": {},
   "source": [
    "### Enumerar los distintos tipos de habitaciones disponibles en Airnb\n"
   ]
  },
  {
   "cell_type": "code",
   "execution_count": 191,
   "id": "WcAcrUvTK86F",
   "metadata": {
    "id": "WcAcrUvTK86F"
   },
   "outputs": [
    {
     "data": {
      "text/plain": [
       "room_type\n",
       "Entire home/apt    51987\n",
       "Private room       44887\n",
       "Shared room         2149\n",
       "Hotel room           115\n",
       "Name: count, dtype: int64"
      ]
     },
     "execution_count": 191,
     "metadata": {},
     "output_type": "execute_result"
    }
   ],
   "source": [
    "df['room_type'].value_counts()"
   ]
  },
  {
   "cell_type": "markdown",
   "id": "a8eb453e",
   "metadata": {},
   "source": [
    "### Qué tipo de habitación se adhiere a una política de cancelación más estricta.\n"
   ]
  },
  {
   "cell_type": "code",
   "execution_count": 144,
   "id": "tdx97C6rK86F",
   "metadata": {
    "id": "tdx97C6rK86F"
   },
   "outputs": [
    {
     "data": {
      "text/plain": [
       "cancellation_policy\n",
       "moderate    33264\n",
       "flexible    32948\n",
       "strict      32926\n",
       "Name: count, dtype: int64"
      ]
     },
     "execution_count": 144,
     "metadata": {},
     "output_type": "execute_result"
    }
   ],
   "source": [
    "df['cancellation_policy'].value_counts()"
   ]
  },
  {
   "cell_type": "code",
   "execution_count": null,
   "id": "JYOjAgTVK86F",
   "metadata": {
    "id": "JYOjAgTVK86F"
   },
   "outputs": [],
   "source": [
    "df_group_two= df[df['cancellation_policy']=='strict']\n",
    "df_group_two"
   ]
  },
  {
   "cell_type": "markdown",
   "id": "6e00d1f8",
   "metadata": {},
   "source": [
    "### Enumere los precios por grupo de barrios y mencione también cuál es el grupo de barrios más caro para los alquileres.\n"
   ]
  },
  {
   "cell_type": "code",
   "execution_count": 147,
   "id": "fd36e7d4",
   "metadata": {},
   "outputs": [
    {
     "data": {
      "text/plain": [
       "neighbourhood_group\n",
       "Manhattan        26353671.0\n",
       "Brooklyn         25252166.0\n",
       "Queens            8069593.0\n",
       "Bronx             1635085.0\n",
       "Staten Island      575056.0\n",
       "brookln               580.0\n",
       "manhatan              460.0\n",
       "Name: price, dtype: float64"
      ]
     },
     "execution_count": 147,
     "metadata": {},
     "output_type": "execute_result"
    }
   ],
   "source": [
    "grpl=df['price'].groupby(df['neighbourhood_group']).sum().sort_values(ascending=False)\n",
    "grpl"
   ]
  },
  {
   "cell_type": "markdown",
   "id": "a7d653b1",
   "metadata": {},
   "source": [
    "# Tarea 5a: Visualización de datos (Cualquier herramienta)\n",
    "\n",
    "* Crea un gráfico de barras horizontales para mostrar los barrios más caros del conjunto de datos.\n",
    "* Crea otro gráfico con los barrios más baratos del conjunto de datos.\n",
    "* Crea un gráfico de caja que muestre la distribución de precios de todos los anuncios dividida por tipo de habitación.\n",
    "\n",
    "\n",
    "Si utiliza Python para este ejercicio, por favor incluya el código en las celdas de abajo. Si utiliza cualquier otra herramienta, por favor incluya pantallazos de su trabajo."
   ]
  },
  {
   "cell_type": "markdown",
   "id": "091ea37a",
   "metadata": {},
   "source": [
    "### Crea un gráfico de barras horizontales para mostrar los barrios más caros del conjunto de datos.\n"
   ]
  },
  {
   "cell_type": "code",
   "execution_count": 302,
   "id": "9e3a362f",
   "metadata": {},
   "outputs": [
    {
     "data": {
      "text/plain": [
       "neighbourhood_group\n",
       "manhatan              460.0\n",
       "brookln               580.0\n",
       "Staten Island      575056.0\n",
       "Bronx             1635085.0\n",
       "Queens            8069593.0\n",
       "Brooklyn         25252166.0\n",
       "Manhattan        26353671.0\n",
       "Name: price, dtype: float64"
      ]
     },
     "execution_count": 302,
     "metadata": {},
     "output_type": "execute_result"
    }
   ],
   "source": [
    "grouped_prices_ascend = df['price'].groupby(df['neighbourhood_group']).sum().sort_values(ascending=True)\n",
    "grouped_prices_ascend"
   ]
  },
  {
   "cell_type": "code",
   "execution_count": 292,
   "id": "ae5093ef",
   "metadata": {},
   "outputs": [
    {
     "name": "stderr",
     "output_type": "stream",
     "text": [
      "C:\\Users\\es50885877x\\AppData\\Local\\Temp\\ipykernel_25652\\3390702885.py:2: FutureWarning: \n",
      "\n",
      "The `ci` parameter is deprecated. Use `errorbar=None` for the same effect.\n",
      "\n",
      "  sns.barplot(data=df, x='neighbourhood_group', y='price', ci=None)\n"
     ]
    },
    {
     "data": {
      "text/plain": [
       "<Axes: xlabel='neighbourhood_group', ylabel='price'>"
      ]
     },
     "execution_count": 292,
     "metadata": {},
     "output_type": "execute_result"
    },
    {
     "data": {
      "image/png": "[encoded data removed]",
      "text/plain": [
       "<Figure size 640x480 with 1 Axes>"
      ]
     },
     "metadata": {},
     "output_type": "display_data"
    }
   ],
   "source": [
    "import seaborn as sns\n",
    "sns.barplot(data=df, x='neighbourhood_group', y='price', ci=None)"
   ]
  },
  {
   "cell_type": "code",
   "execution_count": 311,
   "id": "c9fecbee",
   "metadata": {},
   "outputs": [
    {
     "data": {
      "image/png": "[encoded data removed]",
      "text/plain": [
       "<Figure size 640x480 with 1 Axes>"
      ]
     },
     "metadata": {},
     "output_type": "display_data"
    }
   ],
   "source": [
    "import matplotlib.pyplot as plt\n",
    "\n",
    "# Plotear los valores\n",
    "grouped_prices_ascend.plot(kind= 'bar')\n",
    "\n",
    "# Personalizar el gráfico\n",
    "plt.xlabel('Suma de precios')\n",
    "plt.ylabel('Grupo de vecindario')\n",
    "plt.title('Suma de precios por grupo de vecindario (ascendente)')\n",
    "\n",
    "# Mostrar el gráfico\n",
    "plt.show()"
   ]
  },
  {
   "cell_type": "markdown",
   "id": "805ef6e1",
   "metadata": {},
   "source": [
    "### Crea otro gráfico con los barrios más baratos del conjunto de datos.\n"
   ]
  },
  {
   "cell_type": "code",
   "execution_count": 304,
   "id": "a87de195",
   "metadata": {},
   "outputs": [
    {
     "data": {
      "text/plain": [
       "neighbourhood_group\n",
       "Manhattan        26353671.0\n",
       "Brooklyn         25252166.0\n",
       "Queens            8069593.0\n",
       "Bronx             1635085.0\n",
       "Staten Island      575056.0\n",
       "brookln               580.0\n",
       "manhatan              460.0\n",
       "Name: price, dtype: float64"
      ]
     },
     "execution_count": 304,
     "metadata": {},
     "output_type": "execute_result"
    }
   ],
   "source": [
    "grouped_prices_descend = df['price'].groupby(df['neighbourhood_group']).sum().sort_values(ascending=False)\n",
    "grouped_prices_descend"
   ]
  },
  {
   "cell_type": "code",
   "execution_count": 310,
   "id": "73895802",
   "metadata": {},
   "outputs": [
    {
     "data": {
      "image/png": "[encoded data removed]",
      "text/plain": [
       "<Figure size 640x480 with 1 Axes>"
      ]
     },
     "metadata": {},
     "output_type": "display_data"
    }
   ],
   "source": [
    "import matplotlib.pyplot as plt\n",
    "\n",
    "# Plotear los valores\n",
    "grouped_prices_descend.plot(kind= 'bar')\n",
    "\n",
    "# Personalizar el gráfico\n",
    "plt.xlabel('Suma de precios')\n",
    "plt.ylabel('Grupo de vecindario')\n",
    "plt.title('Suma de precios por grupo de vecindario (ascendente)')\n",
    "\n",
    "# Mostrar el gráfico\n",
    "plt.show()\n"
   ]
  },
  {
   "cell_type": "markdown",
   "id": "21663833",
   "metadata": {},
   "source": [
    "### Crea un gráfico de caja que muestre la distribución de precios de todos los anuncios dividida por tipo de habitación."
   ]
  },
  {
   "cell_type": "code",
   "execution_count": 306,
   "id": "8da7bc67",
   "metadata": {},
   "outputs": [
    {
     "data": {
      "text/plain": [
       "room_type\n",
       "Entire home/apt    624.227711\n",
       "Hotel room         666.391304\n",
       "Private room       623.842516\n",
       "Shared room        630.912517\n",
       "Name: price, dtype: float64"
      ]
     },
     "execution_count": 306,
     "metadata": {},
     "output_type": "execute_result"
    }
   ],
   "source": [
    "# Agrupar los datos por el tipo de habitación y calcular el promedio de los precios\n",
    "precios_por_tipo_habitacion = df.groupby('room_type')['price'].mean()\n",
    "precios_por_tipo_habitacion\n"
   ]
  },
  {
   "cell_type": "code",
   "execution_count": 307,
   "id": "e12adc70",
   "metadata": {},
   "outputs": [
    {
     "data": {
      "image/png": "[encoded data removed]",
      "text/plain": [
       "<Figure size 640x480 with 1 Axes>"
      ]
     },
     "metadata": {},
     "output_type": "display_data"
    }
   ],
   "source": [
    "import seaborn as sns\n",
    "import matplotlib.pyplot as plt\n",
    "\n",
    "# Crear el gráfico de caja\n",
    "sns.boxplot(x='room_type', y='price', data=df)\n",
    "\n",
    "# Personalizar el gráfico\n",
    "plt.xlabel('Tipo de habitación')\n",
    "plt.ylabel('Precio')\n",
    "plt.title('Distribución de precios por tipo de habitación')\n",
    "\n",
    "# Mostrar el gráfico\n",
    "plt.show()"
   ]
  },
  {
   "cell_type": "markdown",
   "id": "2Yc5AWtsK86H",
   "metadata": {
    "id": "2Yc5AWtsK86H"
   },
   "source": [
    "## Tarea 5b: Visualización de datos (Cualquier herramienta)\n",
    "\n",
    "* Crea un gráfico de dispersión para ilustrar la relación entre la tarifa de limpieza y el precio de la habitación y escribe el tipo de correlación que observas, si la hay.\n",
    "* Crea un gráfico de líneas para mostrar la cantidad total de lugares disponibles al año.\n",
    "\n",
    "Si utilizas Python para este ejercicio, incluye el código en las celdas siguientes. Si utilizas cualquier otra herramienta, incluye capturas de pantalla de tu trabajo.\n"
   ]
  },
  {
   "cell_type": "markdown",
   "id": "ba53c303",
   "metadata": {},
   "source": [
    "### Crea un gráfico de dispersión para ilustrar la relación entre la tarifa de limpieza y el precio de la habitación y escribe el tipo de correlación que observas, si la hay."
   ]
  },
  {
   "cell_type": "code",
   "execution_count": 212,
   "id": "u7w_1H1sK86H",
   "metadata": {
    "id": "u7w_1H1sK86H"
   },
   "outputs": [
    {
     "data": {
      "image/png": "[encoded data removed]",
      "text/plain": [
       "<Figure size 640x480 with 1 Axes>"
      ]
     },
     "metadata": {},
     "output_type": "display_data"
    }
   ],
   "source": [
    "# Crear el gráfico de dispersión\n",
    "sns.scatterplot(data=df, x='service_fee', y='price')#, hue='room_type', s=30)\n",
    "\n",
    "# Personalizar el gráfico\n",
    "plt.xlabel('Tarifa de limpieza')\n",
    "plt.ylabel('Precio de la habitación')\n",
    "plt.title('Relación entre la tarifa de limpieza y el precio de la habitación', size=12, color='red') \n",
    "\n",
    "# Mostrar el gráfico\n",
    "plt.show()"
   ]
  },
  {
   "cell_type": "code",
   "execution_count": 203,
   "id": "47cc0a29",
   "metadata": {},
   "outputs": [
    {
     "name": "stdout",
     "output_type": "stream",
     "text": [
      "Coeficiente de correlación: 0.9939390863925024\n"
     ]
    }
   ],
   "source": [
    "correlation = df['service_fee'].corr(df['price'])\n",
    "print('Coeficiente de correlación:', correlation)"
   ]
  },
  {
   "cell_type": "markdown",
   "id": "3e5c72c4",
   "metadata": {},
   "source": [
    "El coeficiente de correlación puede variar entre -1 y 1. Un valor cercano a 1 indica una correlación positiva fuerte, un valor cercano a -1 indica una correlación negativa fuerte, y un valor cercano a 0 indica una correlación débil o inexistente."
   ]
  },
  {
   "cell_type": "markdown",
   "id": "997e20db",
   "metadata": {},
   "source": [
    "### Crea un gráfico de líneas para mostrar la cantidad total de lugares disponibles al año.\n"
   ]
  },
  {
   "cell_type": "code",
   "execution_count": 222,
   "id": "66e6fb54",
   "metadata": {},
   "outputs": [
    {
     "data": {
      "text/plain": [
       "Index(['name', 'host_identity_verified', 'host_name', 'neighbourhood_group',\n",
       "       'neighbourhood', 'lat', 'long', 'instant_bookable',\n",
       "       'cancellation_policy', 'room_type', 'construction_year', 'price',\n",
       "       'service_fee', 'minimum_nights', 'number_of_reviews', 'last_review',\n",
       "       'reviews_per_month', 'review_rate_number',\n",
       "       'calculated_host_listings_count', 'days_booked', 'house_rules',\n",
       "       'license', 'construction_year_counts'],\n",
       "      dtype='object')"
      ]
     },
     "execution_count": 222,
     "metadata": {},
     "output_type": "execute_result"
    }
   ],
   "source": [
    "df.columns"
   ]
  },
  {
   "cell_type": "code",
   "execution_count": 225,
   "id": "UM7P_KhFK86I",
   "metadata": {
    "id": "UM7P_KhFK86I"
   },
   "outputs": [
    {
     "data": {
      "text/plain": [
       "construction_year\n",
       "2003.0    4966\n",
       "2004.0    4865\n",
       "2005.0    4949\n",
       "2006.0    5029\n",
       "2007.0    4940\n",
       "2008.0    5046\n",
       "2009.0    4999\n",
       "2010.0    4966\n",
       "2011.0    4887\n",
       "2012.0    5159\n",
       "2013.0    4855\n",
       "2014.0    5063\n",
       "2015.0    4928\n",
       "2016.0    4858\n",
       "2017.0    4911\n",
       "2018.0    4883\n",
       "2019.0    5004\n",
       "2020.0    5005\n",
       "2021.0    4866\n",
       "2022.0    4959\n",
       "Name: count, dtype: int64"
      ]
     },
     "execution_count": 225,
     "metadata": {},
     "output_type": "execute_result"
    }
   ],
   "source": [
    "lugares_por_año = df['construction_year'].value_counts().sort_index()\n",
    "lugares_por_año"
   ]
  },
  {
   "cell_type": "code",
   "execution_count": 228,
   "id": "51838021",
   "metadata": {},
   "outputs": [
    {
     "data": {
      "image/png": "[encoded data removed]",
      "text/plain": [
       "<Figure size 640x480 with 1 Axes>"
      ]
     },
     "metadata": {},
     "output_type": "display_data"
    }
   ],
   "source": [
    "sns.lineplot(data=lugares_por_año)\n",
    "\n",
    "# Personalizar el gráfico\n",
    "plt.xlabel('Año')\n",
    "plt.ylabel('Cantidad de lugares disponibles')\n",
    "plt.title('Cantidad total de lugares disponibles por año')\n",
    "\n",
    "# Mostrar el gráfico\n",
    "plt.show()"
   ]
  },
  {
   "cell_type": "markdown",
   "id": "5c48d110",
   "metadata": {},
   "source": [
    "# Tarea 5s: Visualización de datos (cualquier herramienta)\n",
    "\n",
    "* Crea una visualización de datos de tu elección utilizando una de las columnas de reseñas, de forma aislada o en combinación con otra columna.\n",
    "* Crea una visualización para comparar, al menos, dos variables diferentes entre superanfitriones y anfitriones normales.\n",
    "\n",
    "Si utilizas Python para este ejercicio, incluye el código que hayas utilizado en las celdas siguientes. Si utilizas cualquier otra herramienta, incluye capturas de pantalla de tu trabajo.\n",
    "\n"
   ]
  },
  {
   "cell_type": "markdown",
   "id": "70377bc3",
   "metadata": {},
   "source": [
    "### Crea una visualización de datos de tu elección utilizando una de las columnas de reseñas, de forma aislada o en combinación con otra columna."
   ]
  },
  {
   "cell_type": "code",
   "execution_count": 234,
   "id": "cc08ca15",
   "metadata": {},
   "outputs": [
    {
     "data": {
      "text/plain": [
       "<matplotlib.collections.PathCollection at 0x23128af4f40>"
      ]
     },
     "execution_count": 234,
     "metadata": {},
     "output_type": "execute_result"
    },
    {
     "data": {
      "image/png": "[encoded data removed]",
      "text/plain": [
       "<Figure size 640x480 with 1 Axes>"
      ]
     },
     "metadata": {},
     "output_type": "display_data"
    }
   ],
   "source": [
    "plt.scatter(df['review_rate_number'], df['price'])"
   ]
  },
  {
   "cell_type": "code",
   "execution_count": 230,
   "id": "3b11056e",
   "metadata": {},
   "outputs": [
    {
     "data": {
      "image/png": "[encoded data removed]",
      "text/plain": [
       "<Figure size 640x480 with 1 Axes>"
      ]
     },
     "metadata": {},
     "output_type": "display_data"
    }
   ],
   "source": [
    "sns.boxplot(x='review_rate_number', y='price', data=df);"
   ]
  },
  {
   "cell_type": "markdown",
   "id": "f1e725a9",
   "metadata": {},
   "source": [
    "### Crea una visualización para comparar, al menos, dos variables diferentes entre anfitriones verificados y no verificados."
   ]
  },
  {
   "cell_type": "code",
   "execution_count": 250,
   "id": "bc1a685a",
   "metadata": {},
   "outputs": [
    {
     "data": {
      "text/plain": [
       "Index(['name', 'host_identity_verified', 'host_name', 'neighbourhood_group',\n",
       "       'neighbourhood', 'lat', 'long', 'instant_bookable',\n",
       "       'cancellation_policy', 'room_type', 'construction_year', 'price',\n",
       "       'service_fee', 'minimum_nights', 'number_of_reviews', 'last_review',\n",
       "       'reviews_per_month', 'review_rate_number',\n",
       "       'calculated_host_listings_count', 'days_booked', 'house_rules',\n",
       "       'license', 'construction_year_counts'],\n",
       "      dtype='object')"
      ]
     },
     "execution_count": 250,
     "metadata": {},
     "output_type": "execute_result"
    }
   ],
   "source": [
    "df.columns"
   ]
  },
  {
   "cell_type": "code",
   "execution_count": 263,
   "id": "664df44b",
   "metadata": {},
   "outputs": [
    {
     "data": {
      "text/plain": [
       "host_identity_verified\n",
       "unconfirmed               49762\n",
       "verified                  49376\n",
       "Name: count, dtype: int64"
      ]
     },
     "execution_count": 263,
     "metadata": {},
     "output_type": "execute_result"
    }
   ],
   "source": [
    "df[['host_identity_verified']].value_counts()"
   ]
  },
  {
   "cell_type": "code",
   "execution_count": 273,
   "id": "116552d5",
   "metadata": {},
   "outputs": [],
   "source": [
    "# Filtrar los datos para obtener solo verified\n",
    "# Crear una lista de valores medios para cada variable y grupo\n",
    "verified = df[df['host_identity_verified'] == 'verified']\n",
    "\n"
   ]
  },
  {
   "cell_type": "code",
   "execution_count": 274,
   "id": "61814084",
   "metadata": {},
   "outputs": [],
   "source": [
    "# Filtrar los datos para obtener solo anfitriones unconfirmed\n",
    "# Crear una lista de valores medios para cada variable y grupo\n",
    "unconfirmed = df[df['host_identity_verified'] == 'unconfirmed']\n"
   ]
  },
  {
   "cell_type": "code",
   "execution_count": 282,
   "id": "3538ebda",
   "metadata": {},
   "outputs": [
    {
     "data": {
      "image/png": "[encoded data removed]",
      "text/plain": [
       "<Figure size 640x480 with 1 Axes>"
      ]
     },
     "metadata": {},
     "output_type": "display_data"
    }
   ],
   "source": [
    "sns.boxplot(x='host_identity_verified', y='price', data=df)\n",
    "\n",
    "# Personalizar el gráfico\n",
    "plt.xlabel('Tipo de anfitrión')\n",
    "plt.ylabel('Precio')\n",
    "plt.title('Comparación de precios entre anfitriones verificados y no confirmados')\n",
    "\n",
    "# Mostrar el gráfico\n",
    "plt.show()"
   ]
  }
 ],
 "metadata": {
  "colab": {
   "provenance": []
  },
  "kernelspec": {
   "display_name": "Python 3 (ipykernel)",
   "language": "python",
   "name": "python3"
  },
  "language_info": {
   "codemirror_mode": {
    "name": "ipython",
    "version": 3
   },
   "file_extension": ".py",
   "mimetype": "text/x-python",
   "name": "python",
   "nbconvert_exporter": "python",
   "pygments_lexer": "ipython3",
   "version": "3.12.1"
  },
  "nteract": {
   "version": "0.28.0"
  },
  "toc": {
   "base_numbering": 1,
   "nav_menu": {},
   "number_sections": false,
   "sideBar": true,
   "skip_h1_title": true,
   "title_cell": "Table of Contents",
   "title_sidebar": "Contents",
   "toc_cell": false,
   "toc_position": {},
   "toc_section_display": true,
   "toc_window_display": true
  },
  "vscode": {
   "interpreter": {
    "hash": "31f2aee4e71d21fbe5cf8b01ff0e069b9275f58929596ceb00d14d90e3e16cd6"
   }
  }
 },
 "nbformat": 4,
 "nbformat_minor": 5
}
